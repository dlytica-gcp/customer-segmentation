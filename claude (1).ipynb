{
 "cells": [
  {
   "cell_type": "code",
   "execution_count": 2,
   "id": "746e6ff2-e63e-4838-875b-ddb6a52495ab",
   "metadata": {},
   "outputs": [
    {
     "name": "stdout",
     "output_type": "stream",
     "text": [
      "Collecting scikit-learn\n",
      "  Downloading scikit_learn-1.6.1-cp311-cp311-manylinux_2_17_x86_64.manylinux2014_x86_64.whl.metadata (18 kB)\n",
      "Collecting pandas\n",
      "  Downloading pandas-2.2.3-cp311-cp311-manylinux_2_17_x86_64.manylinux2014_x86_64.whl.metadata (89 kB)\n",
      "\u001b[2K     \u001b[90m━━━━━━━━━━━━━━━━━━━━━━━━━━━━━━━━━━━━━━━\u001b[0m \u001b[32m89.9/89.9 kB\u001b[0m \u001b[31m796.6 kB/s\u001b[0m eta \u001b[36m0:00:00\u001b[0ma \u001b[36m0:00:01\u001b[0m\n",
      "\u001b[?25hCollecting numpy\n",
      "  Downloading numpy-2.2.4-cp311-cp311-manylinux_2_17_x86_64.manylinux2014_x86_64.whl.metadata (62 kB)\n",
      "\u001b[2K     \u001b[90m━━━━━━━━━━━━━━━━━━━━━━━━━━━━━━━━━━━━━━━━\u001b[0m \u001b[32m62.0/62.0 kB\u001b[0m \u001b[31m4.0 MB/s\u001b[0m eta \u001b[36m0:00:00\u001b[0m\n",
      "\u001b[?25hCollecting matplotlib\n",
      "  Downloading matplotlib-3.10.1-cp311-cp311-manylinux_2_17_x86_64.manylinux2014_x86_64.whl.metadata (11 kB)\n",
      "Collecting seaborn\n",
      "  Downloading seaborn-0.13.2-py3-none-any.whl.metadata (5.4 kB)\n",
      "Requirement already satisfied: pyspark in /opt/conda/lib/python3.11/site-packages (3.5.1)\n",
      "Collecting scipy>=1.6.0 (from scikit-learn)\n",
      "  Downloading scipy-1.15.2-cp311-cp311-manylinux_2_17_x86_64.manylinux2014_x86_64.whl.metadata (61 kB)\n",
      "\u001b[2K     \u001b[90m━━━━━━━━━━━━━━━━━━━━━━━━━━━━━━━━━━━━━━━━\u001b[0m \u001b[32m62.0/62.0 kB\u001b[0m \u001b[31m3.1 MB/s\u001b[0m eta \u001b[36m0:00:00\u001b[0m\n",
      "\u001b[?25hCollecting joblib>=1.2.0 (from scikit-learn)\n",
      "  Downloading joblib-1.4.2-py3-none-any.whl.metadata (5.4 kB)\n",
      "Collecting threadpoolctl>=3.1.0 (from scikit-learn)\n",
      "  Downloading threadpoolctl-3.6.0-py3-none-any.whl.metadata (13 kB)\n",
      "Requirement already satisfied: python-dateutil>=2.8.2 in /opt/conda/lib/python3.11/site-packages (from pandas) (2.9.0)\n",
      "Requirement already satisfied: pytz>=2020.1 in /opt/conda/lib/python3.11/site-packages (from pandas) (2024.1)\n",
      "Collecting tzdata>=2022.7 (from pandas)\n",
      "  Downloading tzdata-2025.2-py2.py3-none-any.whl.metadata (1.4 kB)\n",
      "Collecting contourpy>=1.0.1 (from matplotlib)\n",
      "  Downloading contourpy-1.3.1-cp311-cp311-manylinux_2_17_x86_64.manylinux2014_x86_64.whl.metadata (5.4 kB)\n",
      "Collecting cycler>=0.10 (from matplotlib)\n",
      "  Downloading cycler-0.12.1-py3-none-any.whl.metadata (3.8 kB)\n",
      "Collecting fonttools>=4.22.0 (from matplotlib)\n",
      "  Downloading fonttools-4.56.0-cp311-cp311-manylinux_2_17_x86_64.manylinux2014_x86_64.whl.metadata (101 kB)\n",
      "\u001b[2K     \u001b[90m━━━━━━━━━━━━━━━━━━━━━━━━━━━━━━━━━━━━━━━\u001b[0m \u001b[32m101.9/101.9 kB\u001b[0m \u001b[31m3.0 MB/s\u001b[0m eta \u001b[36m0:00:00\u001b[0m\n",
      "\u001b[?25hCollecting kiwisolver>=1.3.1 (from matplotlib)\n",
      "  Downloading kiwisolver-1.4.8-cp311-cp311-manylinux_2_17_x86_64.manylinux2014_x86_64.whl.metadata (6.2 kB)\n",
      "Requirement already satisfied: packaging>=20.0 in /opt/conda/lib/python3.11/site-packages (from matplotlib) (24.1)\n",
      "Collecting pillow>=8 (from matplotlib)\n",
      "  Downloading pillow-11.1.0-cp311-cp311-manylinux_2_28_x86_64.whl.metadata (9.1 kB)\n",
      "Collecting pyparsing>=2.3.1 (from matplotlib)\n",
      "  Downloading pyparsing-3.2.2-py3-none-any.whl.metadata (5.0 kB)\n",
      "Requirement already satisfied: py4j==0.10.9.7 in /opt/conda/lib/python3.11/site-packages (from pyspark) (0.10.9.7)\n",
      "Requirement already satisfied: six>=1.5 in /opt/conda/lib/python3.11/site-packages (from python-dateutil>=2.8.2->pandas) (1.16.0)\n",
      "Downloading scikit_learn-1.6.1-cp311-cp311-manylinux_2_17_x86_64.manylinux2014_x86_64.whl (13.5 MB)\n",
      "\u001b[2K   \u001b[90m━━━━━━━━━━━━━━━━━━━━━━━━━━━━━━━━━━━━━━━━\u001b[0m \u001b[32m13.5/13.5 MB\u001b[0m \u001b[31m8.8 MB/s\u001b[0m eta \u001b[36m0:00:00\u001b[0m00:01\u001b[0m00:01\u001b[0m\n",
      "\u001b[?25hDownloading pandas-2.2.3-cp311-cp311-manylinux_2_17_x86_64.manylinux2014_x86_64.whl (13.1 MB)\n",
      "\u001b[2K   \u001b[90m━━━━━━━━━━━━━━━━━━━━━━━━━━━━━━━━━━━━━━━━\u001b[0m \u001b[32m13.1/13.1 MB\u001b[0m \u001b[31m5.5 MB/s\u001b[0m eta \u001b[36m0:00:00\u001b[0m00:01\u001b[0m00:01\u001b[0m\n",
      "\u001b[?25hDownloading numpy-2.2.4-cp311-cp311-manylinux_2_17_x86_64.manylinux2014_x86_64.whl (16.4 MB)\n",
      "\u001b[2K   \u001b[90m━━━━━━━━━━━━━━━━━━━━━━━━━━━━━━━━━━━━━━━━\u001b[0m \u001b[32m16.4/16.4 MB\u001b[0m \u001b[31m995.1 kB/s\u001b[0m eta \u001b[36m0:00:00\u001b[0m:01\u001b[0m0m00:01\u001b[0m\n",
      "\u001b[?25hDownloading matplotlib-3.10.1-cp311-cp311-manylinux_2_17_x86_64.manylinux2014_x86_64.whl (8.6 MB)\n",
      "\u001b[2K   \u001b[90m━━━━━━━━━━━━━━━━━━━━━━━━━━━━━━━━━━━━━━━━\u001b[0m \u001b[32m8.6/8.6 MB\u001b[0m \u001b[31m2.3 MB/s\u001b[0m eta \u001b[36m0:00:00\u001b[0m00:01\u001b[0m00:01\u001b[0m\n",
      "\u001b[?25hDownloading seaborn-0.13.2-py3-none-any.whl (294 kB)\n",
      "\u001b[2K   \u001b[90m━━━━━━━━━━━━━━━━━━━━━━━━━━━━━━━━━━━━━━━━\u001b[0m \u001b[32m294.9/294.9 kB\u001b[0m \u001b[31m4.9 MB/s\u001b[0m eta \u001b[36m0:00:00\u001b[0ma \u001b[36m0:00:01\u001b[0m\n",
      "\u001b[?25hDownloading contourpy-1.3.1-cp311-cp311-manylinux_2_17_x86_64.manylinux2014_x86_64.whl (326 kB)\n",
      "\u001b[2K   \u001b[90m━━━━━━━━━━━━━━━━━━━━━━━━━━━━━━━━━━━━━━━━\u001b[0m \u001b[32m326.2/326.2 kB\u001b[0m \u001b[31m4.8 MB/s\u001b[0m eta \u001b[36m0:00:00\u001b[0ma \u001b[36m0:00:01\u001b[0m\n",
      "\u001b[?25hDownloading cycler-0.12.1-py3-none-any.whl (8.3 kB)\n",
      "Downloading fonttools-4.56.0-cp311-cp311-manylinux_2_17_x86_64.manylinux2014_x86_64.whl (4.9 MB)\n",
      "\u001b[2K   \u001b[90m━━━━━━━━━━━━━━━━━━━━━━━━━━━━━━━━━━━━━━━━\u001b[0m \u001b[32m4.9/4.9 MB\u001b[0m \u001b[31m4.6 MB/s\u001b[0m eta \u001b[36m0:00:00\u001b[0m00:01\u001b[0m00:01\u001b[0m\n",
      "\u001b[?25hDownloading joblib-1.4.2-py3-none-any.whl (301 kB)\n",
      "\u001b[2K   \u001b[90m━━━━━━━━━━━━━━━━━━━━━━━━━━━━━━━━━━━━━━━━\u001b[0m \u001b[32m301.8/301.8 kB\u001b[0m \u001b[31m5.1 MB/s\u001b[0m eta \u001b[36m0:00:00\u001b[0ma \u001b[36m0:00:01\u001b[0m\n",
      "\u001b[?25hDownloading kiwisolver-1.4.8-cp311-cp311-manylinux_2_17_x86_64.manylinux2014_x86_64.whl (1.4 MB)\n",
      "\u001b[2K   \u001b[90m━━━━━━━━━━━━━━━━━━━━━━━━━━━━━━━━━━━━━━━━\u001b[0m \u001b[32m1.4/1.4 MB\u001b[0m \u001b[31m4.3 MB/s\u001b[0m eta \u001b[36m0:00:00\u001b[0m00:01\u001b[0m00:01\u001b[0m\n",
      "\u001b[?25hDownloading pillow-11.1.0-cp311-cp311-manylinux_2_28_x86_64.whl (4.5 MB)\n",
      "\u001b[2K   \u001b[90m━━━━━━━━━━━━━━━━━━━━━━━━━━━━━━━━━━━━━━━━\u001b[0m \u001b[32m4.5/4.5 MB\u001b[0m \u001b[31m4.3 MB/s\u001b[0m eta \u001b[36m0:00:00\u001b[0m00:01\u001b[0m00:01\u001b[0m\n",
      "\u001b[?25hDownloading pyparsing-3.2.2-py3-none-any.whl (111 kB)\n",
      "\u001b[2K   \u001b[90m━━━━━━━━━━━━━━━━━━━━━━━━━━━━━━━━━━━━━━━━\u001b[0m \u001b[32m111.1/111.1 kB\u001b[0m \u001b[31m5.3 MB/s\u001b[0m eta \u001b[36m0:00:00\u001b[0m\n",
      "\u001b[?25hDownloading scipy-1.15.2-cp311-cp311-manylinux_2_17_x86_64.manylinux2014_x86_64.whl (37.6 MB)\n",
      "\u001b[2K   \u001b[90m━━━━━━━━━━━━━━━━━━━━━━━━━━━━━━━━━━━━━━━━\u001b[0m \u001b[32m37.6/37.6 MB\u001b[0m \u001b[31m2.7 MB/s\u001b[0m eta \u001b[36m0:00:00\u001b[0m00:01\u001b[0m00:01\u001b[0m\n",
      "\u001b[?25hDownloading threadpoolctl-3.6.0-py3-none-any.whl (18 kB)\n",
      "Downloading tzdata-2025.2-py2.py3-none-any.whl (347 kB)\n",
      "\u001b[2K   \u001b[90m━━━━━━━━━━━━━━━━━━━━━━━━━━━━━━━━━━━━━━━━\u001b[0m \u001b[32m347.8/347.8 kB\u001b[0m \u001b[31m5.9 MB/s\u001b[0m eta \u001b[36m0:00:00\u001b[0ma \u001b[36m0:00:01\u001b[0m\n",
      "\u001b[?25hInstalling collected packages: tzdata, threadpoolctl, pyparsing, pillow, numpy, kiwisolver, joblib, fonttools, cycler, scipy, pandas, contourpy, scikit-learn, matplotlib, seaborn\n",
      "Successfully installed contourpy-1.3.1 cycler-0.12.1 fonttools-4.56.0 joblib-1.4.2 kiwisolver-1.4.8 matplotlib-3.10.1 numpy-2.2.4 pandas-2.2.3 pillow-11.1.0 pyparsing-3.2.2 scikit-learn-1.6.1 scipy-1.15.2 seaborn-0.13.2 threadpoolctl-3.6.0 tzdata-2025.2\n",
      "Note: you may need to restart the kernel to use updated packages.\n"
     ]
    }
   ],
   "source": [
    "pip install scikit-learn pandas numpy matplotlib seaborn pyspark"
   ]
  },
  {
   "cell_type": "code",
   "execution_count": 37,
   "id": "d525a1d3-26bf-4a39-acec-668075d3b84c",
   "metadata": {},
   "outputs": [],
   "source": [
    "from pyspark.sql import SparkSession\n",
    "from pyspark.ml.feature import VectorAssembler, StandardScaler, PCA\n",
    "from pyspark.ml.clustering import KMeans, BisectingKMeans\n",
    "from pyspark.ml.evaluation import ClusteringEvaluator\n",
    "from pyspark.sql.functions import col, isnan, when, count, mean, min, max, stddev, percentile_approx\n",
    "from pyspark.ml.stat import Correlation\n",
    "import matplotlib.pyplot as plt\n",
    "import pandas as pd\n",
    "import numpy as np\n",
    "import seaborn as sns\n",
    "from pyspark.sql.types import DoubleType\n",
    "import warnings\n",
    "warnings.filterwarnings(\"ignore\")\n",
    "\n",
    "spark = SparkSession.builder \\\n",
    "    .appName(\"CustomerSegmentation\") \\\n",
    "    .config(\"spark.driver.memory\", \"30g\") \\\n",
    "    .config(\"spark.executor.memory\", \"30g\") \\\n",
    "    .config(\"spark.executor.memoryOverhead\", \"18g\") \\\n",
    "    .config(\"spark.driver.maxResultSize\", \"18g\") \\\n",
    "    .config(\"spark.executor.cores\", \"4\") \\\n",
    "    .config(\"spark.executor.instances\", \"4\") \\\n",
    "    .config(\"spark.dynamicAllocation.enabled\", \"true\") \\\n",
    "    .config(\"spark.dynamicAllocation.minExecutors\", \"2\") \\\n",
    "    .config(\"spark.dynamicAllocation.maxExecutors\", \"10\") \\\n",
    "    .config(\"spark.dynamicAllocation.initialExecutors\", \"4\") \\\n",
    "    .config(\"spark.default.parallelism\", \"200\") \\\n",
    "    .config(\"spark.sql.shuffle.partitions\", \"200\") \\\n",
    "    .enableHiveSupport() \\\n",
    "    .getOrCreate()\n"
   ]
  },
  {
   "cell_type": "code",
   "execution_count": 38,
   "id": "d7cec709-57e4-41b8-94ec-335ec307f1f4",
   "metadata": {},
   "outputs": [
    {
     "name": "stdout",
     "output_type": "stream",
     "text": [
      "Total number of records: 191559\n",
      "Schema:\n",
      "root\n",
      " |-- cif_id: string (nullable = true)\n",
      " |-- schm_type: string (nullable = true)\n",
      " |-- balance: double (nullable = true)\n",
      " |-- balance_frequency: integer (nullable = true)\n",
      " |-- purchases: double (nullable = true)\n",
      " |-- oneoff_purchases: double (nullable = true)\n",
      " |-- installments_purchases: double (nullable = true)\n",
      " |-- cash_advance: double (nullable = true)\n",
      " |-- purchases_frequency: integer (nullable = true)\n",
      " |-- oneoff_purchases_frequency: integer (nullable = true)\n",
      " |-- purchases_installments_frequency: integer (nullable = true)\n",
      " |-- cash_advance_frequency: integer (nullable = true)\n",
      " |-- cash_advance_trx: integer (nullable = true)\n",
      " |-- purchases_trx: integer (nullable = true)\n",
      " |-- payments: double (nullable = true)\n",
      " |-- tenure: integer (nullable = true)\n",
      " |-- minimum_payments: double (nullable = true)\n",
      " |-- prc_full_payment: integer (nullable = true)\n",
      " |-- credit_limit: double (nullable = true)\n",
      "\n"
     ]
    },
    {
     "name": "stderr",
     "output_type": "stream",
     "text": [
      "                                                                                \r"
     ]
    }
   ],
   "source": [
    "# Load data\n",
    "df = spark.read.csv(\"ctzn_1_years_data.csv\", header=True, inferSchema=True)\n",
    "\n",
    "# Display basic information\n",
    "print(\"Total number of records:\", df.count())\n",
    "print(\"Schema:\")\n",
    "df.printSchema()"
   ]
  },
  {
   "cell_type": "code",
   "execution_count": 39,
   "id": "e2a5b565-e144-49bf-9a44-a4c1dc8eaa7a",
   "metadata": {},
   "outputs": [
    {
     "name": "stdout",
     "output_type": "stream",
     "text": [
      "+---------------+-----------+-------------------+\n",
      "|    min_balance|max_balance|       mean_balance|\n",
      "+---------------+-----------+-------------------+\n",
      "|-1.0476237418E9|      4.4E9|-18909.956332095866|\n",
      "+---------------+-----------+-------------------+\n",
      "\n"
     ]
    }
   ],
   "source": [
    "# Calculate basic statistics\n",
    "stats = df.select([min(col(\"balance\")).alias(\"min_balance\"),\n",
    "                  max(col(\"balance\")).alias(\"max_balance\"),\n",
    "                  mean(col(\"balance\")).alias(\"mean_balance\")])\n",
    "stats.show()\n"
   ]
  },
  {
   "cell_type": "code",
   "execution_count": 40,
   "id": "6958a6ca-7e8c-49c3-9287-151da5f7eeaa",
   "metadata": {},
   "outputs": [
    {
     "name": "stderr",
     "output_type": "stream",
     "text": [
      "[Stage 1080:>                                                       (0 + 1) / 1]\r"
     ]
    },
    {
     "name": "stdout",
     "output_type": "stream",
     "text": [
      "                                          mean        stddev           min  \\\n",
      "balance                          -1.890996e+04  1.294663e+07 -1.047624e+09   \n",
      "balance_frequency                 0.000000e+00  0.000000e+00  0.000000e+00   \n",
      "purchases                         6.528741e+06  3.951343e+08  0.000000e+00   \n",
      "oneoff_purchases                  1.686180e+06  7.236131e+07  0.000000e+00   \n",
      "installments_purchases            4.842561e+06  3.280877e+08  0.000000e+00   \n",
      "cash_advance                      1.307930e+05  2.434063e+07  0.000000e+00   \n",
      "purchases_frequency               4.179642e+00  2.692307e+01  0.000000e+00   \n",
      "oneoff_purchases_frequency        2.988113e-02  1.702598e-01  0.000000e+00   \n",
      "purchases_installments_frequency  0.000000e+00  0.000000e+00  0.000000e+00   \n",
      "cash_advance_frequency            7.520764e-01  4.318084e-01  0.000000e+00   \n",
      "cash_advance_trx                  3.849467e-02  3.508215e-01  0.000000e+00   \n",
      "purchases_trx                     1.004667e+00  1.107870e+00  0.000000e+00   \n",
      "payments                          6.509831e+06  3.994718e+08  0.000000e+00   \n",
      "tenure                            3.553295e+01  2.087689e+01 -1.600000e+01   \n",
      "minimum_payments                  3.356565e+04  1.883913e+06  0.000000e+00   \n",
      "prc_full_payment                  6.604597e-01  4.735545e-01  0.000000e+00   \n",
      "credit_limit                      6.713130e+05  3.767826e+07  0.000000e+00   \n",
      "\n",
      "                                           max         25%       50%  \\\n",
      "balance                           4.400000e+09      0.0000     15.75   \n",
      "balance_frequency                 0.000000e+00      0.0000      0.00   \n",
      "purchases                         6.588771e+10      0.2100   1032.13   \n",
      "oneoff_purchases                  1.199091e+10      0.2100   1000.37   \n",
      "installments_purchases            5.761043e+10      0.0000      0.00   \n",
      "cash_advance                      1.032304e+10      0.0000      0.00   \n",
      "purchases_frequency               8.117000e+03      1.0000      1.00   \n",
      "oneoff_purchases_frequency        1.000000e+00      0.0000      0.00   \n",
      "purchases_installments_frequency  0.000000e+00      0.0000      0.00   \n",
      "cash_advance_frequency            1.000000e+00      1.0000      1.00   \n",
      "cash_advance_trx                  1.900000e+01      0.0000      0.00   \n",
      "purchases_trx                     1.330000e+02      1.0000      1.00   \n",
      "payments                          6.629875e+10      9.0400   8145.33   \n",
      "tenure                            1.070000e+03     23.0000     33.00   \n",
      "minimum_payments                  2.500735e+08   1249.9995   3750.00   \n",
      "prc_full_payment                  1.000000e+00      0.0000      1.00   \n",
      "credit_limit                      5.001470e+09  24999.9900  75000.00   \n",
      "\n",
      "                                          75%  \n",
      "balance                             6211.9600  \n",
      "balance_frequency                      0.0000  \n",
      "purchases                         118169.1300  \n",
      "oneoff_purchases                   90036.0800  \n",
      "installments_purchases             16817.4800  \n",
      "cash_advance                           0.0000  \n",
      "purchases_frequency                    3.0000  \n",
      "oneoff_purchases_frequency             0.0000  \n",
      "purchases_installments_frequency       0.0000  \n",
      "cash_advance_frequency                 1.0000  \n",
      "cash_advance_trx                       0.0000  \n",
      "purchases_trx                          1.0000  \n",
      "payments                          134157.7600  \n",
      "tenure                                47.0000  \n",
      "minimum_payments                    6250.0005  \n",
      "prc_full_payment                       1.0000  \n",
      "credit_limit                      125000.0100  \n"
     ]
    },
    {
     "name": "stderr",
     "output_type": "stream",
     "text": [
      "                                                                                \r"
     ]
    }
   ],
   "source": [
    "def describe_data(df):\n",
    "    # Select only numeric columns\n",
    "    numeric_cols = [field.name for field in df.schema.fields if isinstance(df.schema[field.name].dataType, DoubleType) \n",
    "                    or str(df.schema[field.name].dataType).startswith('IntegerType') \n",
    "                    or str(df.schema[field.name].dataType).startswith('LongType')]\n",
    "    \n",
    "    # Create a list of expressions for all statistics\n",
    "    expr_list = []\n",
    "    for c in numeric_cols:\n",
    "        expr_list.extend([\n",
    "            mean(col(c)).alias(f\"{c}_mean\"),\n",
    "            stddev(col(c)).alias(f\"{c}_stddev\"),\n",
    "            min(col(c)).alias(f\"{c}_min\"),\n",
    "            max(col(c)).alias(f\"{c}_max\"),\n",
    "            percentile_approx(col(c), 0.25).alias(f\"{c}_25%\"),\n",
    "            percentile_approx(col(c), 0.5).alias(f\"{c}_50%\"),\n",
    "            percentile_approx(col(c), 0.75).alias(f\"{c}_75%\")\n",
    "        ])\n",
    "    \n",
    "    # Calculate statistics for each column\n",
    "    result = df.select(expr_list).collect()[0]\n",
    "    \n",
    "    # Convert to pandas DataFrame for better display\n",
    "    stats_dict = {}\n",
    "    for c in numeric_cols:\n",
    "        stats_dict[c] = {\n",
    "            \"mean\": result[f\"{c}_mean\"],\n",
    "            \"stddev\": result[f\"{c}_stddev\"],\n",
    "            \"min\": result[f\"{c}_min\"],\n",
    "            \"max\": result[f\"{c}_max\"],\n",
    "            \"25%\": result[f\"{c}_25%\"],\n",
    "            \"50%\": result[f\"{c}_50%\"],\n",
    "            \"75%\": result[f\"{c}_75%\"]\n",
    "        }\n",
    "    \n",
    "    return pd.DataFrame.from_dict(stats_dict, orient='index')\n",
    "\n",
    "# Get data description\n",
    "desc_df = describe_data(df)\n",
    "print(desc_df)"
   ]
  },
  {
   "cell_type": "code",
   "execution_count": 41,
   "id": "cf10b642-c2b9-4433-9217-aade2cbbc8de",
   "metadata": {},
   "outputs": [
    {
     "name": "stderr",
     "output_type": "stream",
     "text": [
      "[Stage 1081:=================================>                      (3 + 2) / 5]\r"
     ]
    },
    {
     "name": "stdout",
     "output_type": "stream",
     "text": [
      "Missing values by column:\n",
      "Empty DataFrame\n",
      "Columns: [count]\n",
      "Index: []\n"
     ]
    },
    {
     "name": "stderr",
     "output_type": "stream",
     "text": [
      "                                                                                \r"
     ]
    }
   ],
   "source": [
    "# Check for missing values\n",
    "def missing_values(df):\n",
    "    return df.select([count(when(col(c).isNull() | isnan(col(c)), c)).alias(c) for c in df.columns]).collect()[0].asDict()\n",
    "\n",
    "missing = missing_values(df)\n",
    "missing_df = pd.DataFrame.from_dict(missing, orient='index', columns=['count'])\n",
    "missing_df = missing_df.sort_values('count', ascending=False)\n",
    "print(\"Missing values by column:\")\n",
    "print(missing_df[missing_df['count'] > 0])"
   ]
  },
  {
   "cell_type": "code",
   "execution_count": 42,
   "id": "21a9d6da-ba8b-49b2-b628-a69e06896153",
   "metadata": {},
   "outputs": [],
   "source": [
    "# Fill missing values for credit_limit with mean\n",
    "credit_limit_mean = df.select(mean(col(\"credit_limit\"))).collect()[0][0]\n",
    "df = df.withColumn(\"credit_limit\", \n",
    "                  when(col(\"credit_limit\").isNull(), credit_limit_mean)\n",
    "                  .otherwise(col(\"credit_limit\")))"
   ]
  },
  {
   "cell_type": "code",
   "execution_count": 43,
   "id": "65459833-0653-4cef-9a7c-dce3bdb57439",
   "metadata": {},
   "outputs": [],
   "source": [
    "# Handle outliers using Z-score method instead of IQR\n",
    "def handle_outliers_zscore(df, cols, threshold=3.0):\n",
    "    \"\"\"Handle outliers in spark dataframe using z-score method\"\"\"\n",
    "    for c in cols:\n",
    "        # Calculate mean and standard deviation\n",
    "        stats = df.select(mean(col(c)).alias(\"mean\"), stddev(col(c)).alias(\"stddev\")).collect()[0]\n",
    "        mean_val, stddev_val = stats[\"mean\"], stats[\"stddev\"]\n",
    "        \n",
    "        # If stddev is 0 or null, skip this column\n",
    "        if stddev_val is None or stddev_val == 0:\n",
    "            continue\n",
    "            \n",
    "        # Replace outliers with threshold values\n",
    "        df = df.withColumn(\n",
    "            c,\n",
    "            when((col(c) - mean_val) / stddev_val > threshold, mean_val + threshold * stddev_val)\n",
    "            .when((col(c) - mean_val) / stddev_val < -threshold, mean_val - threshold * stddev_val)\n",
    "            .otherwise(col(c))\n",
    "        )\n",
    "    return df"
   ]
  },
  {
   "cell_type": "code",
   "execution_count": 44,
   "id": "4d1981fd-b890-492e-9cf0-e96191d844d2",
   "metadata": {},
   "outputs": [],
   "source": [
    "# Get numeric columns\n",
    "numeric_cols = [field.name for field in df.schema.fields \n",
    "                if (isinstance(df.schema[field.name].dataType, DoubleType) \n",
    "                    or str(df.schema[field.name].dataType).startswith('IntegerType') \n",
    "                    or str(df.schema[field.name].dataType).startswith('LongType'))\n",
    "                and field.name != \"cif_id\"]\n",
    "\n",
    "# Handle outliers in numeric columns\n",
    "df = handle_outliers_zscore(df, numeric_cols)"
   ]
  },
  {
   "cell_type": "code",
   "execution_count": 45,
   "id": "12e001e1-7f69-43ae-94dd-70e3ce4a404e",
   "metadata": {},
   "outputs": [],
   "source": [
    "# Create feature engineering columns\n",
    "df = df.withColumn(\"new_balance_balance_frequency\", col(\"balance\") * col(\"balance_frequency\"))\n",
    "df = df.withColumn(\"new_oneoff_purchases_purchases\", \n",
    "                  when(col(\"purchases\") != 0, col(\"oneoff_purchases\") / col(\"purchases\")).otherwise(0))\n",
    "df = df.withColumn(\"new_installments_purchases_purchases\", \n",
    "                  when(col(\"purchases\") != 0, col(\"installments_purchases\") / col(\"purchases\")).otherwise(0))\n",
    "df = df.withColumn(\"new_cash_advance_purchases_purchases\", col(\"cash_advance\") * col(\"cash_advance_frequency\"))\n",
    "df = df.withColumn(\"new_purchases_purchases_frequency\", col(\"purchases\") * col(\"purchases_frequency\"))\n",
    "df = df.withColumn(\"new_purchases_oneoff_purchases_frequency\", col(\"purchases\") * col(\"oneoff_purchases_frequency\"))\n",
    "df = df.withColumn(\"new_purchases_purchases_trx\", \n",
    "                  when(col(\"purchases_trx\") != 0, col(\"purchases\") / col(\"purchases_trx\")).otherwise(0))\n",
    "df = df.withColumn(\"new_cash_advance_cash_advance_trx\", \n",
    "                  when(col(\"cash_advance_trx\") != 0, col(\"cash_advance\") / col(\"cash_advance_trx\")).otherwise(0))\n",
    "df = df.withColumn(\"new_balance_credit_limit\", \n",
    "                  when(col(\"credit_limit\") != 0, col(\"balance\") / col(\"credit_limit\")).otherwise(0))\n",
    "df = df.withColumn(\"new_payments_credit_limit\", \n",
    "                  when(col(\"minimum_payments\") != 0, col(\"payments\") / col(\"minimum_payments\")).otherwise(0))\n",
    "\n",
    "# Fill remaining NaN values with 0\n",
    "df = df.na.fill(0)\n",
    "\n",
    "# Prepare features for clustering (drop cif_id)\n",
    "if \"cif_id\" in df.columns:\n",
    "    features_df = df.drop(\"cif_id\")\n",
    "else:\n",
    "    features_df = df"
   ]
  },
  {
   "cell_type": "code",
   "execution_count": 46,
   "id": "79c1bfe2-2490-4a19-a4e6-7d10d359f81c",
   "metadata": {},
   "outputs": [
    {
     "name": "stderr",
     "output_type": "stream",
     "text": [
      "                                                                                \r"
     ]
    }
   ],
   "source": [
    "# Filter out non-numeric columns for the assembler\n",
    "from pyspark.sql.types import NumericType\n",
    "\n",
    "# Get only numeric column names\n",
    "numeric_cols = [col_name for col_name, dtype in features_df.dtypes \n",
    "                if dtype != 'string' and not dtype.startswith('array') \n",
    "                and not col_name == 'cif_id']  # Assuming you want to exclude cif_id\n",
    "\n",
    "# Assemble features into a vector\n",
    "assembler = VectorAssembler(inputCols=numeric_cols, outputCol=\"features\")\n",
    "assembled_data = assembler.transform(features_df)\n",
    "\n",
    "# Standardize features\n",
    "scaler = StandardScaler(inputCol=\"features\", outputCol=\"scaled_features\", withStd=True, withMean=True)\n",
    "scaler_model = scaler.fit(assembled_data)\n",
    "scaled_data = scaler_model.transform(assembled_data)"
   ]
  },
  {
   "cell_type": "code",
   "execution_count": 47,
   "id": "9342e5cd-5b0c-4143-a711-2cd8c2c034bc",
   "metadata": {},
   "outputs": [
    {
     "name": "stderr",
     "output_type": "stream",
     "text": [
      "                                                                                \r"
     ]
    },
    {
     "name": "stdout",
     "output_type": "stream",
     "text": [
      "Explained variance ratio: [0.2287108  0.12808795]\n",
      "Total variance explained: 0.3567987476747583\n"
     ]
    }
   ],
   "source": [
    "# Apply PCA for dimensionality reduction\n",
    "pca = PCA(k=2, inputCol=\"scaled_features\", outputCol=\"pca_features\")\n",
    "pca_model = pca.fit(scaled_data)\n",
    "pca_data = pca_model.transform(scaled_data)\n",
    "\n",
    "# Explained variance ratio\n",
    "explained_variance = pca_model.explainedVariance.toArray()\n",
    "print(\"Explained variance ratio:\", explained_variance)\n",
    "print(\"Total variance explained:\", sum(explained_variance))"
   ]
  },
  {
   "cell_type": "code",
   "execution_count": 48,
   "id": "f2b51933-41ec-4c9d-a6b4-ce3f37d3ea53",
   "metadata": {},
   "outputs": [
    {
     "name": "stderr",
     "output_type": "stream",
     "text": [
      "                                                                                \r"
     ]
    },
    {
     "name": "stdout",
     "output_type": "stream",
     "text": [
      "k=2, Cost=772862.9659071012, Silhouette Score=0.9981988551404122\n"
     ]
    },
    {
     "name": "stderr",
     "output_type": "stream",
     "text": [
      "                                                                                \r"
     ]
    },
    {
     "name": "stdout",
     "output_type": "stream",
     "text": [
      "k=3, Cost=399533.8615391177, Silhouette Score=0.998699872839008\n"
     ]
    },
    {
     "name": "stderr",
     "output_type": "stream",
     "text": [
      "                                                                                \r"
     ]
    },
    {
     "name": "stdout",
     "output_type": "stream",
     "text": [
      "k=4, Cost=293058.4168081172, Silhouette Score=0.9953064135026531\n"
     ]
    },
    {
     "name": "stderr",
     "output_type": "stream",
     "text": [
      "                                                                                \r"
     ]
    },
    {
     "name": "stdout",
     "output_type": "stream",
     "text": [
      "k=5, Cost=193889.50055738803, Silhouette Score=0.9959684897513303\n"
     ]
    },
    {
     "name": "stderr",
     "output_type": "stream",
     "text": [
      "                                                                                \r"
     ]
    },
    {
     "name": "stdout",
     "output_type": "stream",
     "text": [
      "k=6, Cost=152039.30350391052, Silhouette Score=0.9909443358246698\n"
     ]
    },
    {
     "name": "stderr",
     "output_type": "stream",
     "text": [
      "                                                                                \r"
     ]
    },
    {
     "name": "stdout",
     "output_type": "stream",
     "text": [
      "k=7, Cost=129104.21747654148, Silhouette Score=0.9912117907294834\n"
     ]
    },
    {
     "name": "stderr",
     "output_type": "stream",
     "text": [
      "                                                                                \r"
     ]
    },
    {
     "name": "stdout",
     "output_type": "stream",
     "text": [
      "k=8, Cost=102675.3252526976, Silhouette Score=0.966305814129383\n"
     ]
    },
    {
     "name": "stderr",
     "output_type": "stream",
     "text": [
      "                                                                                \r"
     ]
    },
    {
     "name": "stdout",
     "output_type": "stream",
     "text": [
      "k=9, Cost=100140.61855433285, Silhouette Score=0.922673164721057\n"
     ]
    },
    {
     "name": "stderr",
     "output_type": "stream",
     "text": [
      "[Stage 1566:=================================>                      (3 + 2) / 5]\r"
     ]
    },
    {
     "name": "stdout",
     "output_type": "stream",
     "text": [
      "k=10, Cost=79860.25433923118, Silhouette Score=0.9657404426832286\n"
     ]
    },
    {
     "name": "stderr",
     "output_type": "stream",
     "text": [
      "                                                                                \r"
     ]
    }
   ],
   "source": [
    "def find_optimal_clusters(data, max_k=10):\n",
    "    \"\"\"Find optimal number of clusters using Elbow method and Silhouette score\"\"\"\n",
    "    costs = []\n",
    "    silhouettes = []\n",
    "    evaluator = ClusteringEvaluator(predictionCol=\"prediction\", featuresCol=\"pca_features\", \n",
    "                                   metricName=\"silhouette\")\n",
    "    \n",
    "    for k in range(2, max_k + 1):\n",
    "        kmeans = KMeans(k=k, seed=42, featuresCol=\"pca_features\")\n",
    "        model = kmeans.fit(data)\n",
    "        cost = model.summary.trainingCost\n",
    "        costs.append(cost)\n",
    "        \n",
    "        # Make predictions\n",
    "        predictions = model.transform(data)\n",
    "        silhouette = evaluator.evaluate(predictions)\n",
    "        silhouettes.append(silhouette)\n",
    "        \n",
    "        print(f\"k={k}, Cost={cost}, Silhouette Score={silhouette}\")\n",
    "    \n",
    "    return costs, silhouettes\n",
    "\n",
    "# Find optimal number of clusters\n",
    "costs, silhouettes = find_optimal_clusters(pca_data, max_k=10)\n"
   ]
  },
  {
   "cell_type": "code",
   "execution_count": 49,
   "id": "58792a76-b891-4335-a6b0-ed078c2cdd82",
   "metadata": {},
   "outputs": [
    {
     "name": "stdout",
     "output_type": "stream",
     "text": [
      "Optimal number of clusters based on silhouette score: 3\n"
     ]
    }
   ],
   "source": [
    "# # Convert to pandas DataFrames for plotting\n",
    "# elbow_df = pd.DataFrame({'k': range(2, len(costs) + 2), 'cost': costs})\n",
    "# silhouette_df = pd.DataFrame({'k': range(2, len(silhouettes) + 2), 'silhouette': silhouettes})\n",
    "\n",
    "# # Determine optimal k (highest silhouette score)\n",
    "# optimal_k = silhouette_df.loc[silhouette_df['silhouette'].idxmax(), 'k']\n",
    "# print(f\"Optimal number of clusters based on silhouette score: {optimal_k}\")"
   ]
  },
  {
   "cell_type": "code",
   "execution_count": 62,
   "id": "24fdf1fa-a8da-4be2-9fda-87803cf32c3c",
   "metadata": {},
   "outputs": [
    {
     "name": "stderr",
     "output_type": "stream",
     "text": [
      "                                                                                \r"
     ]
    },
    {
     "name": "stdout",
     "output_type": "stream",
     "text": [
      "k=2, Cost=772862.9659071012, Silhouette Score=0.9981988551404122\n"
     ]
    },
    {
     "name": "stderr",
     "output_type": "stream",
     "text": [
      "                                                                                \r"
     ]
    },
    {
     "name": "stdout",
     "output_type": "stream",
     "text": [
      "k=3, Cost=399533.86153911764, Silhouette Score=0.998699872839008\n"
     ]
    },
    {
     "name": "stderr",
     "output_type": "stream",
     "text": [
      "                                                                                \r"
     ]
    },
    {
     "name": "stdout",
     "output_type": "stream",
     "text": [
      "k=4, Cost=293058.4168081171, Silhouette Score=0.9953064135026531\n"
     ]
    },
    {
     "name": "stderr",
     "output_type": "stream",
     "text": [
      "                                                                                \r"
     ]
    },
    {
     "name": "stdout",
     "output_type": "stream",
     "text": [
      "k=5, Cost=193889.50055738803, Silhouette Score=0.9959684897513303\n"
     ]
    },
    {
     "name": "stderr",
     "output_type": "stream",
     "text": [
      "                                                                                \r"
     ]
    },
    {
     "name": "stdout",
     "output_type": "stream",
     "text": [
      "k=6, Cost=152039.30350391052, Silhouette Score=0.9909443358246698\n"
     ]
    },
    {
     "name": "stderr",
     "output_type": "stream",
     "text": [
      "                                                                                \r"
     ]
    },
    {
     "name": "stdout",
     "output_type": "stream",
     "text": [
      "k=7, Cost=129104.21747654148, Silhouette Score=0.9912117907294834\n"
     ]
    },
    {
     "name": "stderr",
     "output_type": "stream",
     "text": [
      "                                                                                \r"
     ]
    },
    {
     "name": "stdout",
     "output_type": "stream",
     "text": [
      "k=8, Cost=102675.3252526976, Silhouette Score=0.966305814129383\n"
     ]
    },
    {
     "name": "stderr",
     "output_type": "stream",
     "text": [
      "                                                                                \r"
     ]
    },
    {
     "name": "stdout",
     "output_type": "stream",
     "text": [
      "k=9, Cost=100140.61855433285, Silhouette Score=0.922673164721057\n"
     ]
    },
    {
     "name": "stderr",
     "output_type": "stream",
     "text": [
      "[Stage 2147:=================================>                      (3 + 2) / 5]\r"
     ]
    },
    {
     "name": "stdout",
     "output_type": "stream",
     "text": [
      "k=10, Cost=79860.25433923118, Silhouette Score=0.9657404426832286\n",
      "Optimal number of clusters based on silhouette score: 3\n"
     ]
    },
    {
     "name": "stderr",
     "output_type": "stream",
     "text": [
      "                                                                                \r"
     ]
    }
   ],
   "source": [
    "# Find optimal number of clusters\n",
    "costs, silhouettes = find_optimal_clusters(pca_data, max_k=10)\n",
    "\n",
    "# Convert to pandas DataFrames for plotting\n",
    "elbow_df = pd.DataFrame({'k': range(2, len(costs) + 2), 'cost': costs})\n",
    "silhouette_df = pd.DataFrame({'k': range(2, len(silhouettes) + 2), 'silhouette': silhouettes})\n",
    "\n",
    "# Determine optimal k (highest silhouette score)\n",
    "optimal_k = silhouette_df.loc[silhouette_df['silhouette'].idxmax(), 'k']\n",
    "print(f\"Optimal number of clusters based on silhouette score: {optimal_k}\")\n"
   ]
  },
  {
   "cell_type": "code",
   "execution_count": 63,
   "id": "58349852-9370-448e-8e46-f8cc74b55854",
   "metadata": {},
   "outputs": [
    {
     "name": "stderr",
     "output_type": "stream",
     "text": [
      "                                                                                \r"
     ]
    }
   ],
   "source": [
    "optimal_k = 9\n",
    "\n",
    "kmeans = KMeans(k=int(optimal_k), seed=42, featuresCol=\"pca_features\")\n",
    "kmeans_model = kmeans.fit(pca_data)\n",
    "clustered_data = kmeans_model.transform(pca_data)"
   ]
  },
  {
   "cell_type": "code",
   "execution_count": 64,
   "id": "2ab01f36-203e-4574-9ef3-8bc8e141c0a9",
   "metadata": {},
   "outputs": [
    {
     "name": "stderr",
     "output_type": "stream",
     "text": [
      "                                                                                \r"
     ]
    }
   ],
   "source": [
    "pandas_df = clustered_data.select(\"pca_features\", \"prediction\").toPandas()\n",
    "pandas_df['pca1'] = pandas_df['pca_features'].apply(lambda x: float(x[0]))\n",
    "pandas_df['pca2'] = pandas_df['pca_features'].apply(lambda x: float(x[1]))\n",
    "\n",
    "# Plot clusters\n",
    "plt.figure(figsize=(10, 6))\n",
    "scatter = plt.scatter(pandas_df['pca1'], pandas_df['pca2'], c=pandas_df['prediction'], cmap='viridis', alpha=0.5)\n",
    "plt.colorbar(scatter, label='Cluster')\n",
    "plt.title('Customer Segmentation - PCA Visualization')\n",
    "plt.xlabel('Principal Component 1')\n",
    "plt.ylabel('Principal Component 2')\n",
    "plt.savefig('cluster_visualization.png')\n",
    "plt.close()\n"
   ]
  },
  {
   "cell_type": "code",
   "execution_count": 65,
   "id": "07724bb8-bb47-4f26-8517-001b8f4cc407",
   "metadata": {},
   "outputs": [],
   "source": [
    "def analyze_clusters(df, feature_cols, id_col=None, num_key_features=5):\n",
    "    from pyspark.sql.functions import col\n",
    "    import pandas as pd\n",
    "\n",
    "    # Limit to just what's needed (numeric feature columns and prediction)\n",
    "    analysis_cols = [c for c in feature_cols if c != id_col]\n",
    "\n",
    "    # Select only necessary columns and cast to float (avoid mixed types)\n",
    "    selected_df = df.select([\"prediction\"] + analysis_cols)\n",
    "    for col_name in analysis_cols:\n",
    "        selected_df = selected_df.withColumn(col_name, col(col_name).cast(\"double\"))\n",
    "\n",
    "    # Collect a sample if needed (optional, uncomment if too large)\n",
    "    # selected_df = selected_df.sample(False, 0.5, seed=42)\n",
    "\n",
    "    # Collect to Pandas\n",
    "    pandas_df = selected_df.toPandas()\n",
    "\n",
    "    # Group by cluster and compute means\n",
    "    cluster_profiles = pandas_df.groupby(\"prediction\")[analysis_cols].mean()\n",
    "\n",
    "    # Overall means for comparison\n",
    "    overall_means = pandas_df[analysis_cols].mean()\n",
    "\n",
    "    # Calculate relative importance\n",
    "    relative_importance = cluster_profiles.copy()\n",
    "    for col in analysis_cols:\n",
    "        if overall_means[col] != 0:\n",
    "            relative_importance[col] = (cluster_profiles[col] - overall_means[col]) / overall_means[col]\n",
    "        else:\n",
    "            relative_importance[col] = cluster_profiles[col] - overall_means[col]\n",
    "\n",
    "    # Identify key features per cluster\n",
    "    key_features = {}\n",
    "    for cluster in cluster_profiles.index:\n",
    "        top_features = relative_importance.loc[cluster].abs().sort_values(ascending=False).head(num_key_features).index.tolist()\n",
    "        key_features[cluster] = top_features\n",
    "\n",
    "    return cluster_profiles, relative_importance, key_features\n"
   ]
  },
  {
   "cell_type": "code",
   "execution_count": 66,
   "id": "19b8d02f-149f-48ca-a462-e25ed9c7b8ab",
   "metadata": {},
   "outputs": [
    {
     "name": "stderr",
     "output_type": "stream",
     "text": [
      "                                                                                \r"
     ]
    }
   ],
   "source": [
    "# Define correct feature columns\n",
    "feature_cols = [col_name for col_name in features_df.columns if col_name != \"cif_id\"]\n",
    "\n",
    "# Analyze clusters (optimized)\n",
    "cluster_profiles, relative_importance, key_features = analyze_clusters(\n",
    "    clustered_data, feature_cols, id_col=\"cif_id\" if \"cif_id\" in feature_cols else None\n",
    ")\n"
   ]
  },
  {
   "cell_type": "code",
   "execution_count": 67,
   "id": "69fb6729-6c4e-4d83-bed5-2fbf38be35ce",
   "metadata": {},
   "outputs": [],
   "source": [
    "# Create a function to interpret clusters based on key features\n",
    "def interpret_clusters(cluster_profiles, relative_importance, key_features):\n",
    "    \"\"\"Generate interpretations for each cluster\"\"\"\n",
    "    interpretations = {}\n",
    "    \n",
    "    for cluster in key_features.keys():\n",
    "        features = key_features[cluster]\n",
    "        profile = \"\"\n",
    "        \n",
    "        # Analyze spending patterns\n",
    "        if any(f in features for f in ['purchases', 'oneoff_purchases', 'installments_purchases', \n",
    "                                     'new_oneoff_purchases_purchases', 'new_installments_purchases_purchases']):\n",
    "            spend_level = cluster_profiles.loc[cluster, 'purchases'] if 'purchases' in cluster_profiles.columns else 0\n",
    "            oneoff_ratio = cluster_profiles.loc[cluster, 'new_oneoff_purchases_purchases'] if 'new_oneoff_purchases_purchases' in cluster_profiles.columns else 0\n",
    "            install_ratio = cluster_profiles.loc[cluster, 'new_installments_purchases_purchases'] if 'new_installments_purchases_purchases' in cluster_profiles.columns else 0\n",
    "            \n",
    "            if spend_level > cluster_profiles['purchases'].mean() * 1.2:\n",
    "                profile += \"High spenders; \"\n",
    "            elif spend_level < cluster_profiles['purchases'].mean() * 0.8:\n",
    "                profile += \"Low spenders; \"\n",
    "                \n",
    "            if oneoff_ratio > install_ratio * 1.2:\n",
    "                profile += \"Prefers one-time purchases; \"\n",
    "            elif install_ratio > oneoff_ratio * 1.2:\n",
    "                profile += \"Prefers installment purchases; \"\n",
    "        \n",
    "        # Analyze cash advance behavior\n",
    "        if any(f in features for f in ['cash_advance', 'cash_advance_frequency', 'new_cash_advance_purchases_purchases']):\n",
    "            cash_level = cluster_profiles.loc[cluster, 'cash_advance'] if 'cash_advance' in cluster_profiles.columns else 0\n",
    "            cash_freq = cluster_profiles.loc[cluster, 'cash_advance_frequency'] if 'cash_advance_frequency' in cluster_profiles.columns else 0\n",
    "            \n",
    "            if cash_level > cluster_profiles['cash_advance'].mean() * 1.2 and cash_freq > cluster_profiles['cash_advance_frequency'].mean() * 1.2:\n",
    "                profile += \"Heavy cash advance users; \"\n",
    "            elif cash_level < cluster_profiles['cash_advance'].mean() * 0.8 and cash_freq < cluster_profiles['cash_advance_frequency'].mean() * 0.8:\n",
    "                profile += \"Rarely uses cash advances; \"\n",
    "        \n",
    "        # Analyze balance and credit behavior\n",
    "        if any(f in features for f in ['balance', 'credit_limit', 'new_balance_credit_limit']):\n",
    "            balance_ratio = cluster_profiles.loc[cluster, 'new_balance_credit_limit'] if 'new_balance_credit_limit' in cluster_profiles.columns else 0\n",
    "            \n",
    "            if balance_ratio > 0.7:\n",
    "                profile += \"High balance-to-limit ratio (potentially at-risk); \"\n",
    "            elif balance_ratio < 0.3:\n",
    "                profile += \"Low balance-to-limit ratio (conservative); \"\n",
    "        \n",
    "        # Analyze payment behavior\n",
    "        if any(f in features for f in ['payments', 'minimum_payments', 'new_payments_credit_limit']):\n",
    "            payment_ratio = cluster_profiles.loc[cluster, 'new_payments_credit_limit'] if 'new_payments_credit_limit' in cluster_profiles.columns else 0\n",
    "            \n",
    "            if payment_ratio > cluster_profiles['new_payments_credit_limit'].mean() * 1.2:\n",
    "                profile += \"Pays more than minimum; \"\n",
    "            elif payment_ratio < cluster_profiles['new_payments_credit_limit'].mean() * 0.8:\n",
    "                profile += \"Tends to pay minimum; \"\n",
    "        \n",
    "        # Clean up and finalize the profile\n",
    "        if profile:\n",
    "            interpretations[cluster] = profile[:-2]  # Remove trailing \"; \"\n",
    "        else:\n",
    "            interpretations[cluster] = \"No clear pattern identified\"\n",
    "    \n",
    "    return interpretations\n"
   ]
  },
  {
   "cell_type": "code",
   "execution_count": 68,
   "id": "9e69a687-fad6-4976-9613-223ee32f85f8",
   "metadata": {},
   "outputs": [
    {
     "name": "stdout",
     "output_type": "stream",
     "text": [
      "\n",
      "Cluster Interpretations:\n",
      "Cluster 0: Low balance-to-limit ratio (conservative)\n",
      "Cluster 1: High spenders; Prefers installment purchases; Tends to pay minimum\n",
      "Cluster 2: Low balance-to-limit ratio (conservative)\n",
      "Cluster 3: High spenders; Prefers installment purchases\n",
      "Cluster 4: High spenders; Prefers installment purchases; Tends to pay minimum\n",
      "Cluster 5: Low balance-to-limit ratio (conservative)\n",
      "Cluster 6: Low balance-to-limit ratio (conservative)\n",
      "Cluster 7: Low balance-to-limit ratio (conservative)\n",
      "Cluster 8: Low spenders; Low balance-to-limit ratio (conservative)\n"
     ]
    }
   ],
   "source": [
    "# Interpret clusters\n",
    "cluster_interpretations = interpret_clusters(cluster_profiles, relative_importance, key_features)\n",
    "\n",
    "# Print cluster interpretations\n",
    "print(\"\\nCluster Interpretations:\")\n",
    "for cluster, interpretation in cluster_interpretations.items():\n",
    "    print(f\"Cluster {cluster}: {interpretation}\")\n"
   ]
  },
  {
   "cell_type": "code",
   "execution_count": 69,
   "id": "2fe034fd-b878-407a-a791-4571036c6561",
   "metadata": {},
   "outputs": [],
   "source": [
    "# Save cluster profiles and interpretations to CSV\n",
    "cluster_profiles.to_csv(\"spark_cluster_profiles.csv\")\n",
    "pd.DataFrame.from_dict(cluster_interpretations, orient='index', columns=['Interpretation']).to_csv(\"spark_cluster_interpretations.csv\")"
   ]
  },
  {
   "cell_type": "markdown",
   "id": "8e3845e5-4b50-4405-b3df-f4070bf063d8",
   "metadata": {},
   "source": [
    "# optimization of the clusters"
   ]
  },
  {
   "cell_type": "code",
   "execution_count": 59,
   "id": "6d455fff-b4bf-46bb-8582-ebe39b06c0ed",
   "metadata": {},
   "outputs": [
    {
     "data": {
      "image/png": "[encoded data removed]",
      "text/plain": [
       "<Figure size 1000x600 with 2 Axes>"
      ]
     },
     "metadata": {},
     "output_type": "display_data"
    }
   ],
   "source": [
    "# Plot elbow (inertia/cost) and silhouette together\n",
    "import matplotlib.pyplot as plt\n",
    "\n",
    "fig, ax1 = plt.subplots(figsize=(10, 6))\n",
    "\n",
    "color = 'tab:blue'\n",
    "ax1.set_xlabel('Number of Clusters (k)')\n",
    "ax1.set_ylabel('Cost (Elbow)', color=color)\n",
    "ax1.plot(elbow_df['k'], elbow_df['cost'], marker='o', color=color, label='Cost')\n",
    "ax1.tick_params(axis='y', labelcolor=color)\n",
    "\n",
    "ax2 = ax1.twinx()  # Second axis\n",
    "color = 'tab:green'\n",
    "ax2.set_ylabel('Silhouette Score', color=color)\n",
    "ax2.plot(silhouette_df['k'], silhouette_df['silhouette'], marker='x', color=color, label='Silhouette')\n",
    "ax2.tick_params(axis='y', labelcolor=color)\n",
    "\n",
    "plt.title('Elbow vs. Silhouette Score')\n",
    "plt.grid(True)\n",
    "plt.tight_layout()\n",
    "plt.savefig('cluster_diagnostics.png')\n",
    "plt.show()\n"
   ]
  },
  {
   "cell_type": "code",
   "execution_count": 60,
   "id": "fc92b8e4-bc46-40c7-9834-62175d91d6e3",
   "metadata": {},
   "outputs": [
    {
     "name": "stderr",
     "output_type": "stream",
     "text": [
      "                                                                                \r"
     ]
    }
   ],
   "source": [
    "# Try a larger number of clusters manually\n",
    "manual_k = 9 \n",
    "kmeans = KMeans(k=manual_k, seed=42, featuresCol=\"pca_features\")\n",
    "kmeans_model = kmeans.fit(pca_data)\n",
    "clustered_data = kmeans_model.transform(pca_data)\n",
    "\n",
    "# Proceed with the same interpretation and profiling\n"
   ]
  },
  {
   "cell_type": "code",
   "execution_count": 61,
   "id": "1b559985-cfe3-4094-a499-2005298830b6",
   "metadata": {},
   "outputs": [
    {
     "name": "stderr",
     "output_type": "stream",
     "text": [
      "                                                                                \r"
     ]
    }
   ],
   "source": [
    "# KMeans on original scaled features (not PCA)\n",
    "kmeans = KMeans(k=9, seed=42, featuresCol=\"scaled_features\")\n",
    "kmeans_model = kmeans.fit(scaled_data)\n",
    "clustered_data = kmeans_model.transform(scaled_data)\n"
   ]
  },
  {
   "cell_type": "code",
   "execution_count": null,
   "id": "f295ce13-9a5b-4e00-9fba-4b2dacda93a2",
   "metadata": {},
   "outputs": [],
   "source": [
    "from pyspark.ml.clustering import BisectingKMeans\n",
    "\n",
    "bkm = BisectingKMeans(k=6, seed=42, featuresCol=\"pca_features\")\n",
    "model = bkm.fit(pca_data)\n",
    "clustered_data = model.transform(pca_data)\n"
   ]
  },
  {
   "cell_type": "markdown",
   "id": "8e1dc49e-da63-4ca0-87ee-e395f9a515fe",
   "metadata": {},
   "source": [
    "# Spending Behaviour Clusters"
   ]
  },
  {
   "cell_type": "code",
   "execution_count": 70,
   "id": "c2a1407d-34dd-4609-b259-2c2fc32580d6",
   "metadata": {},
   "outputs": [],
   "source": [
    "# Define features for spending behavior analysis\n",
    "spending_features = [\n",
    "    \"purchases\",\n",
    "    \"oneoff_purchases\",\n",
    "    \"installments_purchases\",\n",
    "    \"purchases_frequency\",\n",
    "    \"oneoff_purchases_frequency\",\n",
    "    \"purchases_installments_frequency\"\n",
    "]\n",
    "\n",
    "# Assemble selected features\n",
    "assembler = VectorAssembler(inputCols=spending_features, outputCol=\"features\")\n",
    "assembled_data = assembler.transform(df)\n"
   ]
  },
  {
   "cell_type": "code",
   "execution_count": 71,
   "id": "48bcc01b-1755-443d-9558-1b6e281b52b1",
   "metadata": {},
   "outputs": [
    {
     "name": "stderr",
     "output_type": "stream",
     "text": [
      "                                                                                \r"
     ]
    }
   ],
   "source": [
    "# Standard scaling\n",
    "scaler = StandardScaler(inputCol=\"features\", outputCol=\"scaled_features\", withStd=True, withMean=True)\n",
    "scaler_model = scaler.fit(assembled_data)\n",
    "scaled_data = scaler_model.transform(assembled_data)\n",
    "\n",
    "# Optional PCA\n",
    "pca = PCA(k=2, inputCol=\"scaled_features\", outputCol=\"pca_features\")\n",
    "pca_model = pca.fit(scaled_data)\n",
    "pca_data = pca_model.transform(scaled_data)\n"
   ]
  },
  {
   "cell_type": "code",
   "execution_count": 72,
   "id": "66b9d45e-ccaa-4b8e-8e01-e8294264dad9",
   "metadata": {},
   "outputs": [
    {
     "name": "stderr",
     "output_type": "stream",
     "text": [
      "                                                                                \r"
     ]
    }
   ],
   "source": [
    "from pyspark.ml.clustering import KMeans\n",
    "\n",
    "k = 5  \n",
    "kmeans = KMeans(k=k, seed=42, featuresCol=\"pca_features\")  # or \"scaled_features\" if no PCA\n",
    "kmeans_model = kmeans.fit(pca_data)\n",
    "clustered_data = kmeans_model.transform(pca_data)\n",
    "\n",
    "# Use only spending features\n",
    "cluster_profiles, relative_importance, key_features = analyze_clusters(\n",
    "    clustered_data, feature_cols=spending_features\n",
    ")\n",
    "\n"
   ]
  },
  {
   "cell_type": "code",
   "execution_count": 73,
   "id": "b79c8360-4808-4e3e-ad73-8d38b2633d83",
   "metadata": {},
   "outputs": [
    {
     "name": "stdout",
     "output_type": "stream",
     "text": [
      "\n",
      "Cluster 0 Spending Behavior:\n",
      " - purchases_frequency: 716.3% higher than average\n",
      " - oneoff_purchases: 493.7% higher than average\n",
      " - purchases: 347.2% higher than average\n",
      " - installments_purchases: 278.2% higher than average\n",
      " - oneoff_purchases_frequency: 99.1% lower than average\n",
      "\n",
      "Cluster 1 Spending Behavior:\n",
      " - oneoff_purchases_frequency: 100.0% lower than average\n",
      " - installments_purchases: 90.5% lower than average\n",
      " - purchases: 83.8% lower than average\n",
      " - oneoff_purchases: 70.8% lower than average\n",
      " - purchases_frequency: 33.0% lower than average\n",
      "\n",
      "Cluster 2 Spending Behavior:\n",
      " - oneoff_purchases_frequency: 3246.6% higher than average\n",
      " - oneoff_purchases: 113.7% higher than average\n",
      " - installments_purchases: 63.2% lower than average\n",
      " - purchases_frequency: 55.2% higher than average\n",
      " - purchases: 1.8% lower than average\n",
      "\n",
      "Cluster 3 Spending Behavior:\n",
      " - installments_purchases: 62234.2% higher than average\n",
      " - purchases: 49564.9% higher than average\n",
      " - oneoff_purchases: 26671.7% higher than average\n",
      " - purchases_frequency: 1408.7% higher than average\n",
      " - oneoff_purchases_frequency: 33.9% higher than average\n",
      "\n",
      "Cluster 4 Spending Behavior:\n",
      " - purchases: 16951.0% higher than average\n",
      " - oneoff_purchases: 16922.3% higher than average\n",
      " - installments_purchases: 16185.7% higher than average\n",
      " - purchases_frequency: 1062.8% higher than average\n",
      " - oneoff_purchases_frequency: 123.1% higher than average\n"
     ]
    }
   ],
   "source": [
    "for cluster, features in key_features.items():\n",
    "    print(f\"\\nCluster {cluster} Spending Behavior:\")\n",
    "    for feature in features:\n",
    "        value = relative_importance.loc[cluster, feature]\n",
    "        direction = \"higher\" if value > 0 else \"lower\"\n",
    "        print(f\" - {feature}: {abs(value)*100:.1f}% {direction} than average\")\n"
   ]
  },
  {
   "cell_type": "code",
   "execution_count": 74,
   "id": "d1d87321-320b-40b5-bb70-59f4dc2f4465",
   "metadata": {},
   "outputs": [],
   "source": [
    "# Save cluster profiles and interpretation\n",
    "cluster_profiles.to_csv(\"spending_cluster_profiles.csv\")\n",
    "pd.DataFrame.from_dict(cluster_interpretations, orient='index', columns=['Interpretation']) \\\n",
    "    .to_csv(\"spending_cluster_interpretations.csv\")\n"
   ]
  },
  {
   "cell_type": "code",
   "execution_count": 75,
   "id": "4a5d859e-7fe2-4f31-abcf-2265d011093d",
   "metadata": {},
   "outputs": [
    {
     "name": "stderr",
     "output_type": "stream",
     "text": [
      "                                                                                \r"
     ]
    }
   ],
   "source": [
    "clustered_data = kmeans_model.transform(pca_data)\n",
    "\n",
    "assembled_data = assembler.transform(df.select(\"cif_id\", *spending_features))\n",
    "\n",
    "scaled_data = scaler_model.transform(assembled_data)\n",
    "pca_data = pca_model.transform(scaled_data)\n",
    "\n",
    "\n",
    "# Select only cif_id and predicted cluster\n",
    "customer_clusters = clustered_data.select(\"cif_id\", col(\"prediction\").alias(\"cluster_id\"))\n",
    "\n",
    "customer_clusters.write.mode(\"overwrite\").csv(\"customer_segments_csv\", header=True)\n",
    "\n"
   ]
  },
  {
   "cell_type": "code",
   "execution_count": 76,
   "id": "99bc0a33-4c5a-4c7a-988c-dc101f2939cf",
   "metadata": {},
   "outputs": [],
   "source": [
    "# Get cluster assignments with customer IDs\n",
    "customer_clusters = clustered_data.select(\"cif_id\", col(\"prediction\").alias(\"cluster_id\"))\n",
    "\n",
    "# Save to CSV\n",
    "customer_clusters.toPandas().to_csv(\"customer_segments.csv\", index=False)\n"
   ]
  },
  {
   "cell_type": "code",
   "execution_count": 78,
   "id": "95f17c81-c342-4749-9f7d-95cd024ee163",
   "metadata": {},
   "outputs": [
    {
     "name": "stderr",
     "output_type": "stream",
     "text": [
      "                                                                                \r"
     ]
    }
   ],
   "source": [
    "# Convert interpretations to DataFrame\n",
    "interpretation_df = pd.DataFrame.from_dict(cluster_interpretations, orient='index', columns=['Cluster_Description'])\n",
    "interpretation_df.reset_index(inplace=True)\n",
    "interpretation_df.rename(columns={\"index\": \"cluster_id\"}, inplace=True)\n",
    "\n",
    "# Get customer_clusters as Pandas\n",
    "customer_clusters_pd = customer_clusters.toPandas()\n",
    "\n",
    "# Merge descriptions with customer info\n",
    "final_customer_segments = customer_clusters_pd.merge(interpretation_df, on='cluster_id', how='left')\n",
    "\n",
    "# Save final output\n",
    "final_customer_segments.to_csv(\"final_customer_segments_with_description.csv\", index=False)\n"
   ]
  },
  {
   "cell_type": "code",
   "execution_count": 80,
   "id": "03d07fb9-1703-4bbd-9330-8b035acf8823",
   "metadata": {},
   "outputs": [],
   "source": [
    "def interpret_clusters(cluster_profiles, relative_importance, key_features):\n",
    "    \"\"\"Generate richer interpretations for each cluster\"\"\"\n",
    "    interpretations = {}\n",
    "\n",
    "    for cluster in key_features.keys():\n",
    "        features = key_features[cluster]\n",
    "        profile = \"\"\n",
    "\n",
    "        # Spending level\n",
    "        spend_level = cluster_profiles.loc[cluster, 'purchases'] if 'purchases' in cluster_profiles.columns else 0\n",
    "        avg_spend = cluster_profiles['purchases'].mean()\n",
    "        if spend_level > avg_spend * 1.3:\n",
    "            profile += \"High spenders; \"\n",
    "        elif spend_level < avg_spend * 0.7:\n",
    "            profile += \"Low spenders; \"\n",
    "        else:\n",
    "            profile += \"Moderate spenders; \"\n",
    "\n",
    "        # Purchase behavior: One-off vs Installment\n",
    "        oneoff = cluster_profiles.loc[cluster, 'oneoff_purchases'] if 'oneoff_purchases' in cluster_profiles.columns else 0\n",
    "        installment = cluster_profiles.loc[cluster, 'installments_purchases'] if 'installments_purchases' in cluster_profiles.columns else 0\n",
    "\n",
    "        if oneoff > installment * 1.3:\n",
    "            profile += \"Prefers one-time purchases; \"\n",
    "        elif installment > oneoff * 1.3:\n",
    "            profile += \"Prefers installment purchases; \"\n",
    "        else:\n",
    "            profile += \"Balanced purchase types; \"\n",
    "\n",
    "        # Frequency\n",
    "        freq = cluster_profiles.loc[cluster, 'purchases_frequency'] if 'purchases_frequency' in cluster_profiles.columns else 0\n",
    "        avg_freq = cluster_profiles['purchases_frequency'].mean()\n",
    "        if freq > avg_freq * 1.3:\n",
    "            profile += \"Frequent shopper; \"\n",
    "        elif freq < avg_freq * 0.7:\n",
    "            profile += \"Infrequent shopper; \"\n",
    "        else:\n",
    "            profile += \"Moderate frequency; \"\n",
    "\n",
    "        # Cash advance behavior\n",
    "        if 'cash_advance' in cluster_profiles.columns:\n",
    "            cash_advance = cluster_profiles.loc[cluster, 'cash_advance']\n",
    "            avg_cash = cluster_profiles['cash_advance'].mean()\n",
    "            if cash_advance > avg_cash * 1.3:\n",
    "                profile += \"Uses cash advances frequently; \"\n",
    "            elif cash_advance < avg_cash * 0.7:\n",
    "                profile += \"Rarely uses cash advances; \"\n",
    "\n",
    "        # Final cleanup\n",
    "        if profile:\n",
    "            interpretations[cluster] = profile.rstrip(\"; \")\n",
    "        else:\n",
    "            interpretations[cluster] = \"No clear pattern identified\"\n",
    "\n",
    "    return interpretations\n"
   ]
  },
  {
   "cell_type": "code",
   "execution_count": 81,
   "id": "83f03be4-6c10-4964-825a-867144d6f330",
   "metadata": {},
   "outputs": [
    {
     "name": "stderr",
     "output_type": "stream",
     "text": [
      "                                                                                \r"
     ]
    }
   ],
   "source": [
    "cluster_interpretations = interpret_clusters(cluster_profiles, relative_importance, key_features)\n",
    "\n",
    "# Convert interpretations to DataFrame\n",
    "interpretation_df = pd.DataFrame.from_dict(cluster_interpretations, orient='index', columns=['Cluster_Description'])\n",
    "interpretation_df.reset_index(inplace=True)\n",
    "interpretation_df.rename(columns={\"index\": \"cluster_id\"}, inplace=True)\n",
    "\n",
    "# Get customer_clusters as Pandas\n",
    "customer_clusters_pd = customer_clusters.toPandas()\n",
    "\n",
    "# Merge descriptions with customer info\n",
    "final_customer_segments = customer_clusters_pd.merge(interpretation_df, on='cluster_id', how='left')\n",
    "\n",
    "# Save final output\n",
    "final_customer_segments.to_csv(\"final_customer_segments_with_description.csv\", index=False)\n",
    "\n"
   ]
  },
  {
   "cell_type": "code",
   "execution_count": null,
   "id": "6690e8af-0329-496e-a9c1-42eb014c8690",
   "metadata": {},
   "outputs": [],
   "source": []
  }
 ],
 "metadata": {
  "kernelspec": {
   "display_name": "Python 3 (ipykernel)",
   "language": "python",
   "name": "python3"
  },
  "language_info": {
   "codemirror_mode": {
    "name": "ipython",
    "version": 3
   },
   "file_extension": ".py",
   "mimetype": "text/x-python",
   "name": "python",
   "nbconvert_exporter": "python",
   "pygments_lexer": "ipython3",
   "version": "3.11.9"
  }
 },
 "nbformat": 4,
 "nbformat_minor": 5
}
