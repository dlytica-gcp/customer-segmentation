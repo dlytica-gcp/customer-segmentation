{
 "cells": [
  {
   "cell_type": "code",
   "execution_count": 3,
   "id": "4e3482ce-c5fa-46d8-9817-616c88ce3a3e",
   "metadata": {},
   "outputs": [
    {
     "name": "stdout",
     "output_type": "stream",
     "text": [
      "Folder 'data_engg_coop_data' zipped successfully as 'data_engg_coop_data.zip'.\n"
     ]
    }
   ],
   "source": [
    "import shutil\n",
    "\n",
    "def zip_folder(folder_path, output_zip_path):\n",
    "    \"\"\"\n",
    "    Zips the specified folder.\n",
    "    \n",
    "    :param folder_path: Path to the folder that needs to be zipped.\n",
    "    :param output_zip_path: Output path for the zip file (without .zip extension).\n",
    "    \"\"\"\n",
    "    shutil.make_archive(output_zip_path, 'zip', folder_path)\n",
    "    print(f\"Folder '{folder_path}' zipped successfully as '{output_zip_path}.zip'.\")\n",
    "\n",
    "# Example usage:\n",
    "folder_to_zip = \"data_engg_coop_data\"  # Replace with the path to the folder you want to zip\n",
    "output_zip_file = \"data_engg_coop_data\"  # Replace with the desired output zip filename (without extension)\n",
    "\n",
    "zip_folder(folder_to_zip, output_zip_file)\n"
   ]
  },
  {
   "cell_type": "code",
   "execution_count": null,
   "id": "c7e30f1d-879d-48e9-9f4c-d922f9b5e013",
   "metadata": {},
   "outputs": [],
   "source": []
  }
 ],
 "metadata": {
  "kernelspec": {
   "display_name": "Python 3 (ipykernel)",
   "language": "python",
   "name": "python3"
  },
  "language_info": {
   "codemirror_mode": {
    "name": "ipython",
    "version": 3
   },
   "file_extension": ".py",
   "mimetype": "text/x-python",
   "name": "python",
   "nbconvert_exporter": "python",
   "pygments_lexer": "ipython3",
   "version": "3.11.9"
  }
 },
 "nbformat": 4,
 "nbformat_minor": 5
}
