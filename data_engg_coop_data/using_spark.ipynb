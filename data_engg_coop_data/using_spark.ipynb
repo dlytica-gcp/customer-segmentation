{
 "cells": [
  {
   "cell_type": "code",
   "execution_count": 1,
   "id": "42a9aa20-7370-46cb-ade5-72654c927dbc",
   "metadata": {},
   "outputs": [
    {
     "name": "stderr",
     "output_type": "stream",
     "text": [
      "Setting default log level to \"WARN\".\n",
      "To adjust logging level use sc.setLogLevel(newLevel). For SparkR, use setLogLevel(newLevel).\n",
      "25/03/10 09:34:18 WARN NativeCodeLoader: Unable to load native-hadoop library for your platform... using builtin-java classes where applicable\n",
      "25/03/10 09:34:21 WARN Utils: Service 'SparkUI' could not bind on port 4040. Attempting port 4041.\n",
      "[Stage 1:>                                                          (0 + 2) / 2]\r"
     ]
    },
    {
     "name": "stdout",
     "output_type": "stream",
     "text": [
      "root\n",
      " |-- cif_id: string (nullable = true)\n",
      " |-- total_accounts: integer (nullable = true)\n",
      " |-- total_saving_accounts: integer (nullable = true)\n",
      " |-- total_fixed_accounts: integer (nullable = true)\n",
      " |-- total_loan_accounts: integer (nullable = true)\n",
      " |-- total_overdraft_accounts: integer (nullable = true)\n",
      " |-- scheme_type: string (nullable = true)\n",
      " |-- total_debit_transaction_count: double (nullable = true)\n",
      " |-- total_credit_transaction_count: double (nullable = true)\n",
      " |-- average_debit_transaction_count: integer (nullable = true)\n",
      " |-- average_credit_transaction_count: integer (nullable = true)\n",
      " |-- total_debit_transaction_amount: double (nullable = true)\n",
      " |-- total_credit_transaction_amount: double (nullable = true)\n",
      " |-- average_debit_amount: double (nullable = true)\n",
      " |-- average_credit_amount: double (nullable = true)\n",
      " |-- average_yearly_saving: double (nullable = true)\n",
      " |-- total_yearly_saving: double (nullable = true)\n",
      " |-- employment_status: string (nullable = true)\n",
      " |-- marital_status: string (nullable = true)\n",
      " |-- occupation: string (nullable = true)\n",
      " |-- gender: string (nullable = true)\n",
      " |-- age_group: string (nullable = true)\n",
      " |-- withdrawal_trends: string (nullable = true)\n",
      " |-- first_account_opened_days: double (nullable = true)\n",
      " |-- last_account_opened_days: double (nullable = true)\n",
      " |-- first_account_date: date (nullable = true)\n",
      " |-- last_account_date: date (nullable = true)\n",
      " |-- last_transaction_date: timestamp (nullable = true)\n",
      " |-- last_dormant_date: date (nullable = true)\n",
      " |-- Recently_Active: string (nullable = true)\n",
      " |-- total_dormant_days: double (nullable = true)\n",
      " |-- total_dormant_account: integer (nullable = true)\n",
      " |-- total_active_account: integer (nullable = true)\n",
      "\n"
     ]
    },
    {
     "name": "stderr",
     "output_type": "stream",
     "text": [
      "                                                                                \r"
     ]
    }
   ],
   "source": [
    "from pyspark.sql import SparkSession\n",
    "\n",
    "spark = SparkSession.builder \\\n",
    "    .appName(\"FD_Recommendation_Clustering\") \\\n",
    "    .getOrCreate()\n",
    "\n",
    "df = spark.read.csv(\"100k_final_table_for_fd_recommendation_system.csv\", header=True, inferSchema=True)\n",
    "df.printSchema()\n"
   ]
  },
  {
   "cell_type": "code",
   "execution_count": 5,
   "id": "efaeefe0-8138-4840-8997-ed1270e81539",
   "metadata": {},
   "outputs": [
    {
     "name": "stderr",
     "output_type": "stream",
     "text": [
      "                                                                                \r"
     ]
    }
   ],
   "source": [
    "from pyspark.sql.functions import expr\n",
    "\n",
    "numeric_cols = [\n",
    "    'total_accounts',\n",
    "    'total_saving_accounts',\n",
    "    'total_fixed_accounts',\n",
    "    'total_loan_accounts',\n",
    "    'total_overdraft_accounts',\n",
    "    'total_debit_transaction_count',\n",
    "    'total_credit_transaction_count',\n",
    "    'average_debit_transaction_count',\n",
    "    'average_credit_transaction_count',\n",
    "    'total_debit_transaction_amount',\n",
    "    'total_credit_transaction_amount',\n",
    "    'average_debit_amount',\n",
    "    'average_credit_amount',\n",
    "    'average_yearly_saving',\n",
    "    'total_yearly_saving',\n",
    "    'total_dormant_account',\n",
    "    'total_dormant_days',\n",
    "    'total_active_account'\n",
    "]\n",
    "\n",
    "# Calculate medians efficiently\n",
    "median_dict = {\n",
    "    col_name: df.approxQuantile(col_name, [0.5], 0.01)[0] \n",
    "    for col_name in numeric_cols\n",
    "}\n",
    "\n",
    "# Fill missing numeric values\n",
    "df = df.fillna(median_dict)\n"
   ]
  },
  {
   "cell_type": "code",
   "execution_count": 8,
   "id": "beaa1957-30e6-4354-aba5-c2ab34f7aefc",
   "metadata": {},
   "outputs": [
    {
     "name": "stdout",
     "output_type": "stream",
     "text": [
      "Skipping 'scheme_type' - only one distinct value.\n"
     ]
    },
    {
     "name": "stderr",
     "output_type": "stream",
     "text": [
      "                                                                                \r"
     ]
    }
   ],
   "source": [
    "# Identify categorical columns with > 1 unique value\n",
    "valid_categorical_cols = []\n",
    "for col_name in categorical_cols:\n",
    "    distinct_count = df.select(col_name).distinct().count()\n",
    "    if distinct_count > 1:\n",
    "        valid_categorical_cols.append(col_name)\n",
    "    else:\n",
    "        print(f\"Skipping '{col_name}' - only one distinct value.\")\n",
    "\n",
    "# Create pipeline stages for valid categorical columns only\n",
    "stages = []\n",
    "for col in valid_categorical_cols:\n",
    "    indexer = StringIndexer(inputCol=col, outputCol=col+\"_idx\")\n",
    "    encoder = OneHotEncoder(inputCols=[col+\"_idx\"], outputCols=[col+\"_encoded\"])\n",
    "    stages.extend([indexer, encoder])\n",
    "\n",
    "# Vector Assembling\n",
    "feature_cols = numeric_cols + [col+\"_encoded\" for col in valid_categorical_cols]\n",
    "\n",
    "assembler = VectorAssembler(inputCols=feature_cols, outputCol=\"features_unscaled\")\n",
    "stages.append(assembler)\n",
    "\n",
    "pipeline = Pipeline(stages=stages)\n",
    "df_processed = pipeline.fit(df).transform(df)\n",
    "\n",
    "# Standard Scaling\n",
    "scaler = StandardScaler(inputCol=\"features_unscaled\", outputCol=\"scaled_features\")\n",
    "scaler_model = scaler.fit(df_processed)\n",
    "df_final = scaler_model.transform(df_processed)\n"
   ]
  },
  {
   "cell_type": "code",
   "execution_count": 10,
   "id": "74aae912-1fb9-47f8-9031-e56ae7d0e609",
   "metadata": {},
   "outputs": [
    {
     "name": "stderr",
     "output_type": "stream",
     "text": [
      "25/03/10 10:08:20 WARN InstanceBuilder: Failed to load implementation from:dev.ludovic.netlib.blas.JNIBLAS\n",
      "                                                                                \r"
     ]
    },
    {
     "data": {
      "image/png": "[encoded data removed]",
      "text/plain": [
       "<Figure size 800x500 with 1 Axes>"
      ]
     },
     "metadata": {},
     "output_type": "display_data"
    }
   ],
   "source": [
    "from pyspark.ml.clustering import KMeans\n",
    "import matplotlib.pyplot as plt\n",
    "\n",
    "sse = []\n",
    "for k in range(2, 11):\n",
    "    kmeans = KMeans(featuresCol='scaled_features', k=k, seed=42)\n",
    "    model = kmeans.fit(df_final)\n",
    "    sse.append(model.summary.trainingCost)\n",
    "\n",
    "# Plot SSE for Elbow Method\n",
    "plt.figure(figsize=(8, 5))\n",
    "plt.plot(range(2, 11), sse, marker='o')\n",
    "plt.xlabel('Number of Clusters (k)')\n",
    "plt.ylabel('Sum of Squared Errors (SSE)')\n",
    "plt.title('Elbow Method for Optimal k')\n",
    "plt.show()\n"
   ]
  },
  {
   "cell_type": "code",
   "execution_count": 11,
   "id": "610de9db-0ad0-4708-b2c7-73c960b136ac",
   "metadata": {},
   "outputs": [
    {
     "name": "stderr",
     "output_type": "stream",
     "text": [
      "                                                                                \r"
     ]
    },
    {
     "name": "stdout",
     "output_type": "stream",
     "text": [
      "+--------------+----------+\n",
      "|        cif_id|prediction|\n",
      "+--------------+----------+\n",
      "|DLNINDV8461369|         4|\n",
      "|DLNINDV7781452|         5|\n",
      "|DLNINDV7340461|         4|\n",
      "|DLNINDV3651024|         1|\n",
      "|DLNINDV7150159|         1|\n",
      "|DLNINDV4459472|         5|\n",
      "|DLNINDV1124347|         5|\n",
      "|DLNINDV7266537|         3|\n",
      "|DLNINDV4508435|         5|\n",
      "|DLNINDV5379397|         5|\n",
      "+--------------+----------+\n",
      "only showing top 10 rows\n",
      "\n"
     ]
    }
   ],
   "source": [
    "optimal_k = 6  # or 7 based on preference\n",
    "\n",
    "from pyspark.ml.clustering import KMeans\n",
    "\n",
    "kmeans = KMeans(featuresCol='scaled_features', k=optimal_k, seed=42)\n",
    "final_model = kmeans.fit(df_final)\n",
    "\n",
    "# Assign cluster labels\n",
    "df_clustered = final_model.transform(df_final)\n",
    "df_clustered.select('cif_id', 'prediction').show(10)\n"
   ]
  },
  {
   "cell_type": "code",
   "execution_count": 12,
   "id": "23884dc0-c4d1-4a97-b47f-074e04161db8",
   "metadata": {},
   "outputs": [
    {
     "name": "stderr",
     "output_type": "stream",
     "text": [
      "[Stage 655:>                                                        (0 + 2) / 2]\r"
     ]
    },
    {
     "name": "stdout",
     "output_type": "stream",
     "text": [
      "Silhouette Score for k=6: 0.2750888939259526\n"
     ]
    },
    {
     "name": "stderr",
     "output_type": "stream",
     "text": [
      "                                                                                \r"
     ]
    }
   ],
   "source": [
    "from pyspark.ml.evaluation import ClusteringEvaluator\n",
    "\n",
    "evaluator = ClusteringEvaluator(featuresCol='scaled_features', metricName='silhouette')\n",
    "silhouette_score = evaluator.evaluate(df_clustered)\n",
    "print(f\"Silhouette Score for k={optimal_k}: {silhouette_score}\")\n"
   ]
  },
  {
   "cell_type": "code",
   "execution_count": 13,
   "id": "e374931e-a50c-4f12-8724-dd832a92ab38",
   "metadata": {},
   "outputs": [
    {
     "name": "stderr",
     "output_type": "stream",
     "text": [
      "[Stage 658:============================>                            (1 + 1) / 2]\r"
     ]
    },
    {
     "name": "stdout",
     "output_type": "stream",
     "text": [
      "+----------+-------------------+--------------------------+-------------------------+------------------------+-----------------------------+----------------------------------+-----------------------------------+------------------------------------+-------------------------------------+-----------------------------------+------------------------------------+-------------------------+--------------------------+--------------------------+------------------------+------------------------------+-----------------------------+-----------------------+--------------------------+-------------------------+--------------------------+-----------------------+-------------------+-------------------+------------------+--------------------------+------------------------+---------------+\n",
      "|prediction|avg(total_accounts)|avg(total_saving_accounts)|avg(total_fixed_accounts)|avg(total_loan_accounts)|avg(total_overdraft_accounts)|avg(total_debit_transaction_count)|avg(total_credit_transaction_count)|avg(average_debit_transaction_count)|avg(average_credit_transaction_count)|avg(total_debit_transaction_amount)|avg(total_credit_transaction_amount)|avg(average_debit_amount)|avg(average_credit_amount)|avg(average_yearly_saving)|avg(total_yearly_saving)|avg(first_account_opened_days)|avg(last_account_opened_days)|avg(total_dormant_days)|avg(total_dormant_account)|avg(total_active_account)|avg(employment_status_idx)|avg(marital_status_idx)|avg(occupation_idx)|    avg(gender_idx)|avg(age_group_idx)|avg(withdrawal_trends_idx)|avg(Recently_Active_idx)|avg(prediction)|\n",
      "+----------+-------------------+--------------------------+-------------------------+------------------------+-----------------------------+----------------------------------+-----------------------------------+------------------------------------+-------------------------------------+-----------------------------------+------------------------------------+-------------------------+--------------------------+--------------------------+------------------------+------------------------------+-----------------------------+-----------------------+--------------------------+-------------------------+--------------------------+-----------------------+-------------------+-------------------+------------------+--------------------------+------------------------+---------------+\n",
      "|         1|  1.505115382850851|        1.5048401156122402|      2.29389365509015E-4|                     0.0|           4.5877873101803E-5|                13.497820801027665|                  6.003761985594348|                    4.50254622195715|                   1.9960086250401432|                  17955.47068862698|                  12547.965322750842|        6912.371156581228|         4677.967424874997|       -2231.7382561820373|      -5266.861365325562|            1827.2575583795935|           1353.9399458641096|      76.67270725329173|       0.08019452218195164|       1.4249208606688994|        1.0000458778731018|     0.8269486626599991| 0.8862228747075286|0.47951552966004496| 3.174932330137175|                       0.0|    0.057301463504151946|            1.0|\n",
      "|         3|  4.501597444089457|         1.494408945686901|       1.5191693290734825|      0.9888178913738019|           0.4992012779552716|                46.712460063897765|                  21.02076677316294|                   4.460063897763578|                   2.0031948881789137|                  38305.98989616612|                  26696.415982428105|       3761.4056869009614|        2602.9145287539955|       -1156.2857987220439|     -11493.215958466455|             1849.376198083067|            916.4376996805112|      54.70926517571885|       0.23322683706070288|        4.268370607028754|                       0.0|     0.7955271565495208|               10.0|0.48083067092651754|               2.0|                       0.0|     0.05750798722044728|            3.0|\n",
      "|         5| 4.5018284848285175|        1.4994563964023326|       1.4972160906664909|       0.998945738477251|           0.5062102592824432|                 44.30557111323428|                  25.36727835798768|                   4.191579086087042|                   2.3935031133660596|                 246054.86159852464|                  228512.23642638253|        23378.71120449381|         21557.14186307788|       -1821.5693259315462|      -17542.62517214119|            1803.1799492636642|            877.9398082561855|     27.382762824103054|       0.15467993279082792|         4.34714855203769|       0.21572826409251145|    0.49378974071755677|  4.848680525812934| 0.5752973346950878| 1.396435278226205|        1.0070833196059699|    0.016934075709155602|            5.0|\n",
      "|         4|  4.497166422101907|        1.4975206193391692|       1.5018215857916308|      0.9989627080908768|          0.49886150888023073|                 47.21256894196225|                 17.884177503415472|                   4.495142437888984|                   1.7014876283964986|                 101184.79146511038|                   51175.53703283856|        9836.887222334775|         4977.990853109205|        -4855.115309416531|      -49809.74700930978|            1839.0540656782878|            914.6568587765015|      70.75145473865304|       0.28113140717502405|       4.2160350149268835|       0.01791226028436978|    0.48223953853159945|  2.815842736426656|0.38559429236451953|1.3775236553154886|      2.529980266153924E-5|     0.07913778272529474|            4.0|\n",
      "|         2|  4.497164461247637|        1.5293005671077504|       1.5009451795841209|      0.9678638941398866|            0.499054820415879|                 46.47164461247637|                 20.782608695652176|                  4.4073724007561434|                   1.9829867674858224|                 203725.44314744798|                  137458.22081285453|       19630.447258979188|        13311.534905482049|        -6316.416238185258|      -66135.51511342164|            1812.5349716446124|            881.5189035916824|      49.65879017013233|       0.23724007561436672|         4.25992438563327|                       0.0|     0.5623818525519849|               12.0| 0.4725897920604915|1.5699432892249527|        0.6162570888468809|     0.05954631379962193|            2.0|\n",
      "|         0|  4.491519787163286|        1.5079813767874959|        1.497006983704689|      0.9886930495510475|           0.4978383771200532|                 68.42301296973729|                 21.891087462587297|                   6.120385766544729|                    1.944296641170602|                 1050471.9040571984|                   503579.5476554715|        94026.41169770522|         44731.49704855339|        -49294.91465081463|       -546892.356401729|            1787.1069171932158|            873.6403392085135|     27.864150315929496|        0.1559694047223146|        4.335550382440971|        1.5034918523445295|      0.504822081809112|  5.701696042567343|  0.622381110741603|1.4434652477552379|        1.0798137678749584|     0.01978716328566678|            0.0|\n",
      "+----------+-------------------+--------------------------+-------------------------+------------------------+-----------------------------+----------------------------------+-----------------------------------+------------------------------------+-------------------------------------+-----------------------------------+------------------------------------+-------------------------+--------------------------+--------------------------+------------------------+------------------------------+-----------------------------+-----------------------+--------------------------+-------------------------+--------------------------+-----------------------+-------------------+-------------------+------------------+--------------------------+------------------------+---------------+\n",
      "\n"
     ]
    },
    {
     "name": "stderr",
     "output_type": "stream",
     "text": [
      "                                                                                \r"
     ]
    }
   ],
   "source": [
    "df_clustered.groupBy('prediction').mean().show()\n"
   ]
  },
  {
   "cell_type": "code",
   "execution_count": 15,
   "id": "75bc8035-7119-4205-abee-45dee0d9234f",
   "metadata": {},
   "outputs": [],
   "source": [
    "import pandas as pd"
   ]
  },
  {
   "cell_type": "code",
   "execution_count": 16,
   "id": "b59884f2-7e98-4125-a1e0-6153e9162de8",
   "metadata": {},
   "outputs": [
    {
     "name": "stderr",
     "output_type": "stream",
     "text": [
      "                                                                                \r"
     ]
    },
    {
     "data": {
      "image/png": "[encoded data removed]",
      "text/plain": [
       "<Figure size 640x480 with 2 Axes>"
      ]
     },
     "metadata": {},
     "output_type": "display_data"
    }
   ],
   "source": [
    "from pyspark.ml.feature import PCA\n",
    "\n",
    "pca = PCA(k=2, inputCol='scaled_features', outputCol='pca_features')\n",
    "df_pca = pca.fit(df_clustered).transform(df_clustered)\n",
    "\n",
    "# Convert PCA results to pandas for visualization\n",
    "pdf = df_pca.select('pca_features', 'prediction').sample(0.1, seed=42).toPandas()\n",
    "pdf[['pca_1', 'pca_2']] = pd.DataFrame(pdf['pca_features'].tolist(), index=pdf.index)\n",
    "\n",
    "import matplotlib.pyplot as plt\n",
    "plt.scatter(pdf['pca_1'], pdf['pca_2'], c=pdf['prediction'], cmap='viridis', alpha=0.6)\n",
    "plt.xlabel('Principal Component 1')\n",
    "plt.ylabel('Principal Component 2')\n",
    "plt.title('Clusters Visualization with PCA')\n",
    "plt.colorbar(label='Cluster')\n",
    "plt.show()\n"
   ]
  },
  {
   "cell_type": "code",
   "execution_count": 17,
   "id": "b80febd9-3833-4a9b-807b-90aae511ed5b",
   "metadata": {},
   "outputs": [
    {
     "name": "stderr",
     "output_type": "stream",
     "text": [
      "[Stage 673:============================>                            (1 + 1) / 2]\r"
     ]
    },
    {
     "name": "stdout",
     "output_type": "stream",
     "text": [
      "+----------+-------------------+--------------------------+-------------------------+------------------------+-----------------------------+----------------------------------+-----------------------------------+------------------------------------+-------------------------------------+-----------------------------------+------------------------------------+-------------------------+--------------------------+--------------------------+------------------------+------------------------------+-----------------------------+-----------------------+--------------------------+-------------------------+--------------------------+-----------------------+-------------------+-------------------+------------------+--------------------------+------------------------+---------------+\n",
      "|prediction|avg(total_accounts)|avg(total_saving_accounts)|avg(total_fixed_accounts)|avg(total_loan_accounts)|avg(total_overdraft_accounts)|avg(total_debit_transaction_count)|avg(total_credit_transaction_count)|avg(average_debit_transaction_count)|avg(average_credit_transaction_count)|avg(total_debit_transaction_amount)|avg(total_credit_transaction_amount)|avg(average_debit_amount)|avg(average_credit_amount)|avg(average_yearly_saving)|avg(total_yearly_saving)|avg(first_account_opened_days)|avg(last_account_opened_days)|avg(total_dormant_days)|avg(total_dormant_account)|avg(total_active_account)|avg(employment_status_idx)|avg(marital_status_idx)|avg(occupation_idx)|    avg(gender_idx)|avg(age_group_idx)|avg(withdrawal_trends_idx)|avg(Recently_Active_idx)|avg(prediction)|\n",
      "+----------+-------------------+--------------------------+-------------------------+------------------------+-----------------------------+----------------------------------+-----------------------------------+------------------------------------+-------------------------------------+-----------------------------------+------------------------------------+-------------------------+--------------------------+--------------------------+------------------------+------------------------------+-----------------------------+-----------------------+--------------------------+-------------------------+--------------------------+-----------------------+-------------------+-------------------+------------------+--------------------------+------------------------+---------------+\n",
      "|         1|  1.505115382850851|        1.5048401156122402|      2.29389365509015E-4|                     0.0|           4.5877873101803E-5|                13.497820801027665|                  6.003761985594348|                    4.50254622195715|                   1.9960086250401432|                  17955.47068862698|                  12547.965322750842|        6912.371156581228|         4677.967424874997|       -2231.7382561820373|      -5266.861365325562|            1827.2575583795935|           1353.9399458641096|      76.67270725329173|       0.08019452218195164|       1.4249208606688994|        1.0000458778731018|     0.8269486626599991| 0.8862228747075286|0.47951552966004496| 3.174932330137175|                       0.0|    0.057301463504151946|            1.0|\n",
      "|         3|  4.501597444089457|         1.494408945686901|       1.5191693290734825|      0.9888178913738019|           0.4992012779552716|                46.712460063897765|                  21.02076677316294|                   4.460063897763578|                   2.0031948881789137|                  38305.98989616612|                  26696.415982428105|       3761.4056869009614|        2602.9145287539955|       -1156.2857987220439|     -11493.215958466455|             1849.376198083067|            916.4376996805112|      54.70926517571885|       0.23322683706070288|        4.268370607028754|                       0.0|     0.7955271565495208|               10.0|0.48083067092651754|               2.0|                       0.0|     0.05750798722044728|            3.0|\n",
      "|         5| 4.5018284848285175|        1.4994563964023326|       1.4972160906664909|       0.998945738477251|           0.5062102592824432|                 44.30557111323428|                  25.36727835798768|                   4.191579086087042|                   2.3935031133660596|                 246054.86159852464|                  228512.23642638253|        23378.71120449381|         21557.14186307788|       -1821.5693259315462|      -17542.62517214119|            1803.1799492636642|            877.9398082561855|     27.382762824103054|       0.15467993279082792|         4.34714855203769|       0.21572826409251145|    0.49378974071755677|  4.848680525812934| 0.5752973346950878| 1.396435278226205|        1.0070833196059699|    0.016934075709155602|            5.0|\n",
      "|         4|  4.497166422101907|        1.4975206193391692|       1.5018215857916308|      0.9989627080908768|          0.49886150888023073|                 47.21256894196225|                 17.884177503415472|                   4.495142437888984|                   1.7014876283964986|                 101184.79146511038|                   51175.53703283856|        9836.887222334775|         4977.990853109205|        -4855.115309416531|      -49809.74700930978|            1839.0540656782878|            914.6568587765015|      70.75145473865304|       0.28113140717502405|       4.2160350149268835|       0.01791226028436978|    0.48223953853159945|  2.815842736426656|0.38559429236451953|1.3775236553154886|      2.529980266153924E-5|     0.07913778272529474|            4.0|\n",
      "|         2|  4.497164461247637|        1.5293005671077504|       1.5009451795841209|      0.9678638941398866|            0.499054820415879|                 46.47164461247637|                 20.782608695652176|                  4.4073724007561434|                   1.9829867674858224|                 203725.44314744798|                  137458.22081285453|       19630.447258979188|        13311.534905482049|        -6316.416238185258|      -66135.51511342164|            1812.5349716446124|            881.5189035916824|      49.65879017013233|       0.23724007561436672|         4.25992438563327|                       0.0|     0.5623818525519849|               12.0| 0.4725897920604915|1.5699432892249527|        0.6162570888468809|     0.05954631379962193|            2.0|\n",
      "|         0|  4.491519787163286|        1.5079813767874959|        1.497006983704689|      0.9886930495510475|           0.4978383771200532|                 68.42301296973729|                 21.891087462587297|                   6.120385766544729|                    1.944296641170602|                 1050471.9040571984|                   503579.5476554715|        94026.41169770522|         44731.49704855339|        -49294.91465081463|       -546892.356401729|            1787.1069171932158|            873.6403392085135|     27.864150315929496|        0.1559694047223146|        4.335550382440971|        1.5034918523445295|      0.504822081809112|  5.701696042567343|  0.622381110741603|1.4434652477552379|        1.0798137678749584|     0.01978716328566678|            0.0|\n",
      "+----------+-------------------+--------------------------+-------------------------+------------------------+-----------------------------+----------------------------------+-----------------------------------+------------------------------------+-------------------------------------+-----------------------------------+------------------------------------+-------------------------+--------------------------+--------------------------+------------------------+------------------------------+-----------------------------+-----------------------+--------------------------+-------------------------+--------------------------+-----------------------+-------------------+-------------------+------------------+--------------------------+------------------------+---------------+\n",
      "\n"
     ]
    },
    {
     "name": "stderr",
     "output_type": "stream",
     "text": [
      "                                                                                \r"
     ]
    }
   ],
   "source": [
    "df_clustered.groupBy('prediction').mean().show()\n"
   ]
  },
  {
   "cell_type": "code",
   "execution_count": 18,
   "id": "46050416-2c11-411f-aa31-ec48a35a067b",
   "metadata": {},
   "outputs": [
    {
     "name": "stderr",
     "output_type": "stream",
     "text": [
      "                                                                                \r"
     ]
    },
    {
     "name": "stdout",
     "output_type": "stream",
     "text": [
      "+----------+-----------+-----+\n",
      "|prediction|scheme_type|count|\n",
      "+----------+-----------+-----+\n",
      "|         4|        SBA|39526|\n",
      "|         1|        SBA|21797|\n",
      "|         2|        SBA| 1058|\n",
      "|         0|        SBA| 6014|\n",
      "|         5|        SBA|30353|\n",
      "|         3|        SBA| 1252|\n",
      "+----------+-----------+-----+\n",
      "\n"
     ]
    },
    {
     "name": "stderr",
     "output_type": "stream",
     "text": [
      "[Stage 679:============================>                            (1 + 1) / 2]\r"
     ]
    },
    {
     "name": "stdout",
     "output_type": "stream",
     "text": [
      "+----------+-----------------+-----+\n",
      "|prediction|employment_status|count|\n",
      "+----------+-----------------+-----+\n",
      "|         3|         Employed| 1252|\n",
      "|         1|         Employed|    2|\n",
      "|         5|         Employed|27079|\n",
      "|         0|    Self-employed| 4521|\n",
      "|         5|    Self-employed| 3274|\n",
      "|         1|       Unemployed|21792|\n",
      "|         1|    Self-employed|    3|\n",
      "|         0|         Employed| 1493|\n",
      "|         4|    Self-employed|  354|\n",
      "|         4|         Employed|39172|\n",
      "|         2|         Employed| 1058|\n",
      "+----------+-----------------+-----+\n",
      "\n"
     ]
    },
    {
     "name": "stderr",
     "output_type": "stream",
     "text": [
      "                                                                                \r"
     ]
    }
   ],
   "source": [
    "df_clustered.groupBy(\"prediction\", \"scheme_type\").count().show()\n",
    "df_clustered.groupBy(\"prediction\", \"employment_status\").count().show()\n"
   ]
  },
  {
   "cell_type": "code",
   "execution_count": 19,
   "id": "849d14a2-c52e-4099-9fda-6dfc7cf9a0c5",
   "metadata": {},
   "outputs": [
    {
     "name": "stdout",
     "output_type": "stream",
     "text": [
      "+--------------+----------+--------------------+\n",
      "|        cif_id|prediction|   FD_Recommendation|\n",
      "+--------------+----------+--------------------+\n",
      "|DLNINDV8461369|         4|    High-Interest FD|\n",
      "|DLNINDV7781452|         5|         Standard FD|\n",
      "|DLNINDV7340461|         4|    High-Interest FD|\n",
      "|DLNINDV3651024|         1|Short-Term FD (1 ...|\n",
      "|DLNINDV7150159|         1|Short-Term FD (1 ...|\n",
      "|DLNINDV4459472|         5|         Standard FD|\n",
      "|DLNINDV1124347|         5|         Standard FD|\n",
      "|DLNINDV7266537|         3|Low-Risk Savings ...|\n",
      "|DLNINDV4508435|         5|         Standard FD|\n",
      "|DLNINDV5379397|         5|         Standard FD|\n",
      "|DLNINDV3553335|         4|    High-Interest FD|\n",
      "|DLNINDV2190445|         0|Long-Term FD (5+ ...|\n",
      "|DLNINDV3338612|         5|         Standard FD|\n",
      "|DLNINDV4703319|         1|Short-Term FD (1 ...|\n",
      "|DLNINDV6059637|         4|    High-Interest FD|\n",
      "|DLNINDV4372845|         0|Long-Term FD (5+ ...|\n",
      "|DLNINDV6901884|         5|         Standard FD|\n",
      "|DLNINDV3597681|         5|         Standard FD|\n",
      "|DLNINDV7825896|         2|   Recurring Deposit|\n",
      "|DLNINDV9541054|         5|         Standard FD|\n",
      "+--------------+----------+--------------------+\n",
      "only showing top 20 rows\n",
      "\n"
     ]
    },
    {
     "name": "stderr",
     "output_type": "stream",
     "text": [
      "                                                                                \r"
     ]
    }
   ],
   "source": [
    "def recommend_fd(cluster):\n",
    "    if cluster == 0:\n",
    "        return \"Long-Term FD (5+ Years)\"\n",
    "    elif cluster == 1:\n",
    "        return \"Short-Term FD (1 Year)\"\n",
    "    elif cluster == 2:\n",
    "        return \"Recurring Deposit\"\n",
    "    elif cluster == 3:\n",
    "        return \"Low-Risk Savings Plan\"\n",
    "    elif cluster == 4:\n",
    "        return \"High-Interest FD\"\n",
    "    else:\n",
    "        return \"Standard FD\"\n",
    "        \n",
    "from pyspark.sql.functions import udf\n",
    "from pyspark.sql.types import StringType\n",
    "\n",
    "recommend_udf = udf(recommend_fd, StringType())\n",
    "df_clustered = df_clustered.withColumn(\"FD_Recommendation\", recommend_udf(df_clustered[\"prediction\"]))\n",
    "df_clustered.select(\"cif_id\", \"prediction\", \"FD_Recommendation\").show()\n"
   ]
  },
  {
   "cell_type": "code",
   "execution_count": 20,
   "id": "dd7b5d98-80e4-4162-a13e-f777ac386f9a",
   "metadata": {},
   "outputs": [
    {
     "name": "stdout",
     "output_type": "stream",
     "text": [
      "+--------------+----------+--------------------+\n",
      "|        cif_id|prediction|   FD_Recommendation|\n",
      "+--------------+----------+--------------------+\n",
      "|DLNINDV8461369|         4|High-Value FD (5+...|\n",
      "|DLNINDV7781452|         5|Premium Investmen...|\n",
      "|DLNINDV7340461|         4|High-Value FD (5+...|\n",
      "|DLNINDV3651024|         1|Basic Savings Pla...|\n",
      "|DLNINDV7150159|         1|Basic Savings Pla...|\n",
      "|DLNINDV4459472|         5|Premium Investmen...|\n",
      "|DLNINDV1124347|         5|Premium Investmen...|\n",
      "|DLNINDV7266537|         3|Mid-Term FD (2-5 ...|\n",
      "|DLNINDV4508435|         5|Premium Investmen...|\n",
      "|DLNINDV5379397|         5|Premium Investmen...|\n",
      "|DLNINDV3553335|         4|High-Value FD (5+...|\n",
      "|DLNINDV2190445|         0|Moderate-Risk FD ...|\n",
      "|DLNINDV3338612|         5|Premium Investmen...|\n",
      "|DLNINDV4703319|         1|Basic Savings Pla...|\n",
      "|DLNINDV6059637|         4|High-Value FD (5+...|\n",
      "|DLNINDV4372845|         0|Moderate-Risk FD ...|\n",
      "|DLNINDV6901884|         5|Premium Investmen...|\n",
      "|DLNINDV3597681|         5|Premium Investmen...|\n",
      "|DLNINDV7825896|         2|Low-Risk FD (1-Ye...|\n",
      "|DLNINDV9541054|         5|Premium Investmen...|\n",
      "+--------------+----------+--------------------+\n",
      "only showing top 20 rows\n",
      "\n"
     ]
    }
   ],
   "source": [
    "def recommend_fd(cluster):\n",
    "    if cluster == 0:\n",
    "        return \"Moderate-Risk FD (3-Year Lock-in)\"\n",
    "    elif cluster == 1:\n",
    "        return \"Basic Savings Plan / Recurring Deposit\"\n",
    "    elif cluster == 2:\n",
    "        return \"Low-Risk FD (1-Year Lock-in)\"\n",
    "    elif cluster == 3:\n",
    "        return \"Mid-Term FD (2-5 Years)\"\n",
    "    elif cluster == 4:\n",
    "        return \"High-Value FD (5+ Years with Max Interest)\"\n",
    "    elif cluster == 5:\n",
    "        return \"Premium Investment Options (Wealth Mgmt, Stocks, FD+Insurance)\"\n",
    "    else:\n",
    "        return \"Standard FD\"\n",
    "        \n",
    "from pyspark.sql.functions import udf\n",
    "from pyspark.sql.types import StringType\n",
    "\n",
    "recommend_udf = udf(recommend_fd, StringType())\n",
    "\n",
    "df_clustered = df_clustered.withColumn(\"FD_Recommendation\", recommend_udf(df_clustered[\"prediction\"]))\n",
    "\n",
    "# Display Sample Recommendations\n",
    "df_clustered.select(\"cif_id\", \"prediction\", \"FD_Recommendation\").show(20)\n"
   ]
  },
  {
   "cell_type": "code",
   "execution_count": 21,
   "id": "0dc38f8c-adc7-47c3-a8a9-9e58ee374c3c",
   "metadata": {},
   "outputs": [
    {
     "name": "stderr",
     "output_type": "stream",
     "text": [
      "                                                                                \r"
     ]
    },
    {
     "name": "stdout",
     "output_type": "stream",
     "text": [
      "+----------+-----------------+-----+\n",
      "|prediction|employment_status|count|\n",
      "+----------+-----------------+-----+\n",
      "|         0|    Self-employed| 4521|\n",
      "|         0|         Employed| 1493|\n",
      "|         1|         Employed|    2|\n",
      "|         1|       Unemployed|21792|\n",
      "|         1|    Self-employed|    3|\n",
      "|         2|         Employed| 1058|\n",
      "|         3|         Employed| 1252|\n",
      "|         4|    Self-employed|  354|\n",
      "|         4|         Employed|39172|\n",
      "|         5|         Employed|27079|\n",
      "|         5|    Self-employed| 3274|\n",
      "+----------+-----------------+-----+\n",
      "\n"
     ]
    },
    {
     "name": "stderr",
     "output_type": "stream",
     "text": [
      "                                                                                \r"
     ]
    },
    {
     "name": "stdout",
     "output_type": "stream",
     "text": [
      "+----------+--------------+-----+\n",
      "|prediction|marital_status|count|\n",
      "+----------+--------------+-----+\n",
      "|         0|       Widowed|  187|\n",
      "|         0|       Married| 3735|\n",
      "|         0|        Single| 1709|\n",
      "|         0|      Divorced|  383|\n",
      "|         1|       Married| 5395|\n",
      "|         1|       Widowed|  473|\n",
      "|         1|        Single|15252|\n",
      "|         1|      Divorced|  677|\n",
      "|         2|       Widowed|   24|\n",
      "|         2|      Divorced|   37|\n",
      "|         2|        Single|  449|\n",
      "|         2|       Married|  548|\n",
      "|         3|       Widowed|   22|\n",
      "|         3|      Divorced|   35|\n",
      "|         3|        Single|  860|\n",
      "|         3|       Married|  335|\n",
      "|         4|        Single|10578|\n",
      "|         4|       Married|25245|\n",
      "|         4|       Widowed| 1077|\n",
      "|         4|      Divorced| 2626|\n",
      "+----------+--------------+-----+\n",
      "only showing top 20 rows\n",
      "\n"
     ]
    },
    {
     "name": "stderr",
     "output_type": "stream",
     "text": [
      "                                                                                \r"
     ]
    },
    {
     "name": "stdout",
     "output_type": "stream",
     "text": [
      "+----------+--------------------+-----+\n",
      "|prediction|          occupation|count|\n",
      "+----------+--------------------+-----+\n",
      "|         0|  Software Developer|  491|\n",
      "|         0|         Businessman| 4521|\n",
      "|         0|            Engineer|   89|\n",
      "|         0|              Doctor|  635|\n",
      "|         0|             Teacher|    7|\n",
      "|         0|           Scientist|   73|\n",
      "|         0|          Accountant|    3|\n",
      "|         0|          Researcher|    6|\n",
      "|         0|             Manager|   51|\n",
      "|         0|Government Secretary|   16|\n",
      "|         0|           Professor|  122|\n",
      "|         1|         Businessman|    3|\n",
      "|         1|               Nurse| 2507|\n",
      "|         1|           Scientist|    1|\n",
      "|         1|             Student|19285|\n",
      "|         1|           Professor|    1|\n",
      "|         2|          Consultant| 1058|\n",
      "|         3|       Retail Worker| 1252|\n",
      "|         4|               Nurse|18261|\n",
      "|         4|             Manager|  151|\n",
      "+----------+--------------------+-----+\n",
      "only showing top 20 rows\n",
      "\n"
     ]
    },
    {
     "name": "stderr",
     "output_type": "stream",
     "text": [
      "                                                                                \r"
     ]
    },
    {
     "name": "stdout",
     "output_type": "stream",
     "text": [
      "+----------+------+-----+\n",
      "|prediction|gender|count|\n",
      "+----------+------+-----+\n",
      "|         0|  Male| 3743|\n",
      "|         0|Female| 2271|\n",
      "|         1|Female|11345|\n",
      "|         1|  Male|10452|\n",
      "|         2|  Male|  500|\n",
      "|         2|Female|  558|\n",
      "|         3|Female|  650|\n",
      "|         3|  Male|  602|\n",
      "|         4|Female|24285|\n",
      "|         4|  Male|15241|\n",
      "|         5|Female|12891|\n",
      "|         5|  Male|17462|\n",
      "+----------+------+-----+\n",
      "\n"
     ]
    },
    {
     "name": "stderr",
     "output_type": "stream",
     "text": [
      "                                                                                \r"
     ]
    },
    {
     "name": "stdout",
     "output_type": "stream",
     "text": [
      "+----------+------------+-----+\n",
      "|prediction|   age_group|count|\n",
      "+----------+------------+-----+\n",
      "|         0|       Gen Z|  936|\n",
      "|         0|       Gen Y| 1529|\n",
      "|         0|Baby Boomers| 1822|\n",
      "|         0|       Minor|   99|\n",
      "|         0|       Gen X| 1628|\n",
      "|         1|       Minor|12805|\n",
      "|         1|       Gen Z| 8992|\n",
      "|         2|       Gen Z|  467|\n",
      "|         2|       Minor|   10|\n",
      "|         2|       Gen X|  159|\n",
      "|         2|Baby Boomers|  212|\n",
      "|         2|       Gen Y|  210|\n",
      "|         3|       Gen Z| 1252|\n",
      "|         4|       Gen X|10527|\n",
      "|         4|       Gen Z| 4719|\n",
      "|         4|Baby Boomers|12777|\n",
      "|         4|       Gen Y|10861|\n",
      "|         4|       Minor|  642|\n",
      "|         5|Baby Boomers| 9521|\n",
      "|         5|       Minor|  480|\n",
      "+----------+------------+-----+\n",
      "only showing top 20 rows\n",
      "\n"
     ]
    },
    {
     "name": "stderr",
     "output_type": "stream",
     "text": [
      "                                                                                \r"
     ]
    },
    {
     "name": "stdout",
     "output_type": "stream",
     "text": [
      "+----------+-------------------+-----+\n",
      "|prediction|  withdrawal_trends|count|\n",
      "+----------+-------------------+-----+\n",
      "|         0|    High Withdrawal|  537|\n",
      "|         0|Moderate Withdrawal| 5420|\n",
      "|         0|     Low Withdrawal|   57|\n",
      "|         1|     Low Withdrawal|21797|\n",
      "|         2|Moderate Withdrawal|  652|\n",
      "|         2|     Low Withdrawal|  406|\n",
      "|         3|     Low Withdrawal| 1252|\n",
      "|         4|Moderate Withdrawal|    1|\n",
      "|         4|     Low Withdrawal|39525|\n",
      "|         5|Moderate Withdrawal|30138|\n",
      "|         5|    High Withdrawal|  215|\n",
      "+----------+-------------------+-----+\n",
      "\n"
     ]
    },
    {
     "name": "stderr",
     "output_type": "stream",
     "text": [
      "                                                                                \r"
     ]
    },
    {
     "name": "stdout",
     "output_type": "stream",
     "text": [
      "+----------+-----------+-----+\n",
      "|prediction|scheme_type|count|\n",
      "+----------+-----------+-----+\n",
      "|         0|        SBA| 6014|\n",
      "|         1|        SBA|21797|\n",
      "|         2|        SBA| 1058|\n",
      "|         3|        SBA| 1252|\n",
      "|         4|        SBA|39526|\n",
      "|         5|        SBA|30353|\n",
      "+----------+-----------+-----+\n",
      "\n"
     ]
    },
    {
     "name": "stderr",
     "output_type": "stream",
     "text": [
      "[Stage 705:>                                                        (0 + 2) / 2]\r"
     ]
    },
    {
     "name": "stdout",
     "output_type": "stream",
     "text": [
      "+----------+---------------+-----+\n",
      "|prediction|Recently_Active|count|\n",
      "+----------+---------------+-----+\n",
      "|         0|              Y| 5895|\n",
      "|         0|              N|  119|\n",
      "|         1|              N| 1249|\n",
      "|         1|              Y|20548|\n",
      "|         2|              Y|  995|\n",
      "|         2|              N|   63|\n",
      "|         3|              Y| 1180|\n",
      "|         3|              N|   72|\n",
      "|         4|              N| 3128|\n",
      "|         4|              Y|36398|\n",
      "|         5|              Y|29839|\n",
      "|         5|              N|  514|\n",
      "+----------+---------------+-----+\n",
      "\n"
     ]
    },
    {
     "name": "stderr",
     "output_type": "stream",
     "text": [
      "                                                                                \r"
     ]
    }
   ],
   "source": [
    "# Group by cluster and count categorical distributions\n",
    "for col in categorical_cols:\n",
    "    df_clustered.groupBy(\"prediction\", col).count().orderBy(\"prediction\").show()\n"
   ]
  },
  {
   "cell_type": "code",
   "execution_count": 22,
   "id": "335cc964-6ebd-419d-9ac0-3a4ce8170a93",
   "metadata": {},
   "outputs": [
    {
     "name": "stderr",
     "output_type": "stream",
     "text": [
      "                                                                                \r"
     ]
    },
    {
     "name": "stdout",
     "output_type": "stream",
     "text": [
      "+----------+--------------------+-----+\n",
      "|prediction|          occupation|count|\n",
      "+----------+--------------------+-----+\n",
      "|         0|  Software Developer|  491|\n",
      "|         0|         Businessman| 4521|\n",
      "|         1|         Businessman|    3|\n",
      "|         5|           Scientist| 1582|\n",
      "|         5|             Manager|  855|\n",
      "|         4|               Nurse|18261|\n",
      "|         5|               Nurse| 2268|\n",
      "|         5|           Professor| 1394|\n",
      "|         1|               Nurse| 2507|\n",
      "|         0|            Engineer|   89|\n",
      "|         5|Government Secretary|  557|\n",
      "|         0|              Doctor|  635|\n",
      "|         5|            Engineer| 5133|\n",
      "|         1|           Scientist|    1|\n",
      "|         4|             Manager|  151|\n",
      "|         4|          Accountant| 4704|\n",
      "|         0|             Teacher|    7|\n",
      "|         2|          Consultant| 1058|\n",
      "|         4|           Professor|  236|\n",
      "|         4|             Teacher| 3912|\n",
      "+----------+--------------------+-----+\n",
      "only showing top 20 rows\n",
      "\n"
     ]
    },
    {
     "name": "stderr",
     "output_type": "stream",
     "text": [
      "                                                                                \r"
     ]
    },
    {
     "name": "stdout",
     "output_type": "stream",
     "text": [
      "+----------+--------------+-----+\n",
      "|prediction|marital_status|count|\n",
      "+----------+--------------+-----+\n",
      "|         3|       Widowed|   22|\n",
      "|         1|       Married| 5395|\n",
      "|         4|        Single|10578|\n",
      "|         0|       Widowed|  187|\n",
      "|         3|      Divorced|   35|\n",
      "|         2|       Widowed|   24|\n",
      "|         5|      Divorced| 1937|\n",
      "|         0|       Married| 3735|\n",
      "|         5|       Widowed|  880|\n",
      "|         1|       Widowed|  473|\n",
      "|         0|        Single| 1709|\n",
      "|         4|       Married|25245|\n",
      "|         2|      Divorced|   37|\n",
      "|         3|        Single|  860|\n",
      "|         2|        Single|  449|\n",
      "|         4|       Widowed| 1077|\n",
      "|         5|       Married|19062|\n",
      "|         4|      Divorced| 2626|\n",
      "|         2|       Married|  548|\n",
      "|         1|        Single|15252|\n",
      "+----------+--------------+-----+\n",
      "only showing top 20 rows\n",
      "\n"
     ]
    },
    {
     "name": "stderr",
     "output_type": "stream",
     "text": [
      "                                                                                \r"
     ]
    },
    {
     "name": "stdout",
     "output_type": "stream",
     "text": [
      "+----------+------------+-----+\n",
      "|prediction|   age_group|count|\n",
      "+----------+------------+-----+\n",
      "|         5|Baby Boomers| 9521|\n",
      "|         4|       Gen X|10527|\n",
      "|         1|       Minor|12805|\n",
      "|         4|       Gen Z| 4719|\n",
      "|         2|       Gen Z|  467|\n",
      "|         0|       Gen Z|  936|\n",
      "|         3|       Gen Z| 1252|\n",
      "|         0|       Gen Y| 1529|\n",
      "|         2|       Minor|   10|\n",
      "|         2|       Gen X|  159|\n",
      "|         5|       Minor|  480|\n",
      "|         0|Baby Boomers| 1822|\n",
      "|         0|       Minor|   99|\n",
      "|         5|       Gen Z| 4180|\n",
      "|         4|Baby Boomers|12777|\n",
      "|         5|       Gen Y| 8205|\n",
      "|         0|       Gen X| 1628|\n",
      "|         2|Baby Boomers|  212|\n",
      "|         4|       Gen Y|10861|\n",
      "|         1|       Gen Z| 8992|\n",
      "+----------+------------+-----+\n",
      "only showing top 20 rows\n",
      "\n"
     ]
    },
    {
     "name": "stderr",
     "output_type": "stream",
     "text": [
      "[Stage 717:============================>                            (1 + 1) / 2]\r"
     ]
    },
    {
     "name": "stdout",
     "output_type": "stream",
     "text": [
      "+----------+-------------------+-----+\n",
      "|prediction|  withdrawal_trends|count|\n",
      "+----------+-------------------+-----+\n",
      "|         2|Moderate Withdrawal|  652|\n",
      "|         1|     Low Withdrawal|21797|\n",
      "|         4|Moderate Withdrawal|    1|\n",
      "|         5|Moderate Withdrawal|30138|\n",
      "|         2|     Low Withdrawal|  406|\n",
      "|         5|    High Withdrawal|  215|\n",
      "|         0|    High Withdrawal|  537|\n",
      "|         0|Moderate Withdrawal| 5420|\n",
      "|         4|     Low Withdrawal|39525|\n",
      "|         3|     Low Withdrawal| 1252|\n",
      "|         0|     Low Withdrawal|   57|\n",
      "+----------+-------------------+-----+\n",
      "\n"
     ]
    },
    {
     "name": "stderr",
     "output_type": "stream",
     "text": [
      "                                                                                \r"
     ]
    }
   ],
   "source": [
    "# Group by Cluster and Occupation\n",
    "df_clustered.groupBy(\"prediction\", \"occupation\").count().show()\n",
    "\n",
    "# Group by Cluster and Marital Status\n",
    "df_clustered.groupBy(\"prediction\", \"marital_status\").count().show()\n",
    "\n",
    "# Group by Cluster and Age Group\n",
    "df_clustered.groupBy(\"prediction\", \"age_group\").count().show()\n",
    "\n",
    "# Group by Cluster and Withdrawal Trends\n",
    "df_clustered.groupBy(\"prediction\", \"withdrawal_trends\").count().show()\n"
   ]
  },
  {
   "cell_type": "code",
   "execution_count": 24,
   "id": "9294b563-441f-4863-8da1-a432c8e4f517",
   "metadata": {},
   "outputs": [
    {
     "name": "stdout",
     "output_type": "stream",
     "text": [
      "Collecting kmodes\n",
      "  Downloading kmodes-0.12.2-py2.py3-none-any.whl.metadata (8.1 kB)\n",
      "Requirement already satisfied: numpy>=1.10.4 in /opt/conda/lib/python3.11/site-packages (from kmodes) (2.2.3)\n",
      "Requirement already satisfied: scikit-learn>=0.22.0 in /opt/conda/lib/python3.11/site-packages (from kmodes) (1.6.1)\n",
      "Requirement already satisfied: scipy>=0.13.3 in /opt/conda/lib/python3.11/site-packages (from kmodes) (1.15.2)\n",
      "Requirement already satisfied: joblib>=0.11 in /opt/conda/lib/python3.11/site-packages (from kmodes) (1.4.2)\n",
      "Requirement already satisfied: threadpoolctl>=3.1.0 in /opt/conda/lib/python3.11/site-packages (from scikit-learn>=0.22.0->kmodes) (3.5.0)\n",
      "Downloading kmodes-0.12.2-py2.py3-none-any.whl (20 kB)\n",
      "Installing collected packages: kmodes\n",
      "Successfully installed kmodes-0.12.2\n",
      "Note: you may need to restart the kernel to use updated packages.\n"
     ]
    }
   ],
   "source": [
    "pip install kmodes"
   ]
  },
  {
   "cell_type": "code",
   "execution_count": 26,
   "id": "dfe5f546-6d8e-453d-92d7-1378f634e368",
   "metadata": {},
   "outputs": [
    {
     "name": "stderr",
     "output_type": "stream",
     "text": [
      "[Stage 722:>                                                        (0 + 1) / 1]\r"
     ]
    },
    {
     "name": "stdout",
     "output_type": "stream",
     "text": [
      "+--------------+----------+-------------------+\n",
      "|        cif_id|prediction|Categorical_Cluster|\n",
      "+--------------+----------+-------------------+\n",
      "|DLNINDV8461369|         4|                  2|\n",
      "|DLNINDV7781452|         5|                  3|\n",
      "|DLNINDV7340461|         4|                  1|\n",
      "|DLNINDV3651024|         1|                  5|\n",
      "|DLNINDV7150159|         1|                  4|\n",
      "|DLNINDV4459472|         5|                  3|\n",
      "|DLNINDV1124347|         5|                  0|\n",
      "|DLNINDV7266537|         3|                  4|\n",
      "|DLNINDV4508435|         5|                  3|\n",
      "|DLNINDV5379397|         5|                  3|\n",
      "|DLNINDV3553335|         4|                  2|\n",
      "|DLNINDV2190445|         0|                  3|\n",
      "|DLNINDV3338612|         5|                  3|\n",
      "|DLNINDV4703319|         1|                  4|\n",
      "|DLNINDV6059637|         4|                  2|\n",
      "|DLNINDV4372845|         0|                  3|\n",
      "|DLNINDV6901884|         5|                  0|\n",
      "|DLNINDV3597681|         5|                  3|\n",
      "|DLNINDV7825896|         2|                  3|\n",
      "|DLNINDV9541054|         5|                  0|\n",
      "+--------------+----------+-------------------+\n",
      "only showing top 20 rows\n",
      "\n"
     ]
    },
    {
     "name": "stderr",
     "output_type": "stream",
     "text": [
      "                                                                                \r"
     ]
    }
   ],
   "source": [
    "import pandas as pd\n",
    "from pyspark.sql.functions import monotonically_increasing_id\n",
    "\n",
    "# Convert KModes output to Pandas DataFrame\n",
    "categorical_clusters = pd.DataFrame(categorical_clusters, columns=[\"Categorical_Cluster\"])\n",
    "\n",
    "# Convert Pandas DataFrame to Spark DataFrame\n",
    "categorical_clusters_spark = spark.createDataFrame(categorical_clusters)\n",
    "\n",
    "# Add row index for joining\n",
    "df_clustered = df_clustered.withColumn(\"row_id\", monotonically_increasing_id())\n",
    "categorical_clusters_spark = categorical_clusters_spark.withColumn(\"row_id\", monotonically_increasing_id())\n",
    "\n",
    "# Join categorical cluster assignments with the main clustered dataset\n",
    "df_clustered = df_clustered.join(categorical_clusters_spark, on=\"row_id\", how=\"inner\").drop(\"row_id\")\n",
    "\n",
    "# Show updated DataFrame with both numerical and categorical clusters\n",
    "df_clustered.select(\"cif_id\", \"prediction\", \"Categorical_Cluster\").show()\n"
   ]
  },
  {
   "cell_type": "code",
   "execution_count": 29,
   "id": "ffd5471a-4894-4316-a909-b7dd0b6a79ec",
   "metadata": {},
   "outputs": [
    {
     "name": "stderr",
     "output_type": "stream",
     "text": [
      "                                                                                \r"
     ]
    },
    {
     "name": "stdout",
     "output_type": "stream",
     "text": [
      "Init: initializing centroids\n",
      "Init: initializing clusters\n",
      "Starting iterations...\n",
      "Run 1, iteration: 1/100, moves: 28596, cost: 247460.0\n",
      "Run 1, iteration: 2/100, moves: 12556, cost: 239674.0\n",
      "Run 1, iteration: 3/100, moves: 1941, cost: 239674.0\n",
      "Init: initializing centroids\n",
      "Init: initializing clusters\n",
      "Starting iterations...\n",
      "Run 2, iteration: 1/100, moves: 30816, cost: 264977.0\n",
      "Run 2, iteration: 2/100, moves: 1796, cost: 264977.0\n",
      "Init: initializing centroids\n",
      "Init: initializing clusters\n",
      "Starting iterations...\n",
      "Run 3, iteration: 1/100, moves: 28696, cost: 254906.0\n",
      "Run 3, iteration: 2/100, moves: 8509, cost: 253664.0\n",
      "Run 3, iteration: 3/100, moves: 173, cost: 253664.0\n",
      "Init: initializing centroids\n",
      "Init: initializing clusters\n",
      "Starting iterations...\n",
      "Run 4, iteration: 1/100, moves: 36476, cost: 247666.0\n",
      "Run 4, iteration: 2/100, moves: 12407, cost: 236900.0\n",
      "Run 4, iteration: 3/100, moves: 1450, cost: 236900.0\n",
      "Init: initializing centroids\n",
      "Init: initializing clusters\n",
      "Starting iterations...\n",
      "Run 5, iteration: 1/100, moves: 16158, cost: 255316.0\n",
      "Run 5, iteration: 2/100, moves: 12627, cost: 251578.0\n",
      "Run 5, iteration: 3/100, moves: 7, cost: 251578.0\n",
      "Init: initializing centroids\n",
      "Init: initializing clusters\n",
      "Starting iterations...\n",
      "Run 6, iteration: 1/100, moves: 20427, cost: 260071.0\n",
      "Run 6, iteration: 2/100, moves: 22, cost: 260071.0\n",
      "Init: initializing centroids\n",
      "Init: initializing clusters\n",
      "Starting iterations...\n",
      "Run 7, iteration: 1/100, moves: 25146, cost: 267674.0\n",
      "Init: initializing centroids\n",
      "Init: initializing clusters\n",
      "Starting iterations...\n",
      "Run 8, iteration: 1/100, moves: 16242, cost: 249033.0\n",
      "Run 8, iteration: 2/100, moves: 9391, cost: 236806.0\n",
      "Run 8, iteration: 3/100, moves: 1180, cost: 236806.0\n",
      "Init: initializing centroids\n",
      "Init: initializing clusters\n",
      "Starting iterations...\n",
      "Run 9, iteration: 1/100, moves: 26832, cost: 272149.0\n",
      "Run 9, iteration: 2/100, moves: 7411, cost: 266761.0\n",
      "Run 9, iteration: 3/100, moves: 130, cost: 266761.0\n",
      "Init: initializing centroids\n",
      "Init: initializing clusters\n",
      "Starting iterations...\n",
      "Run 10, iteration: 1/100, moves: 10494, cost: 269140.0\n",
      "Best run was number 8\n"
     ]
    },
    {
     "name": "stderr",
     "output_type": "stream",
     "text": [
      "                                                                                \r"
     ]
    },
    {
     "name": "stdout",
     "output_type": "stream",
     "text": [
      "+--------------+----------+--------------------------+\n",
      "|        cif_id|prediction|Categorical_Cluster_KModes|\n",
      "+--------------+----------+--------------------------+\n",
      "|DLNINDV8461369|         4|                         3|\n",
      "|DLNINDV7781452|         5|                         5|\n",
      "|DLNINDV7340461|         4|                         3|\n",
      "|DLNINDV3651024|         1|                         3|\n",
      "|DLNINDV7150159|         1|                         0|\n",
      "|DLNINDV4459472|         5|                         1|\n",
      "|DLNINDV1124347|         5|                         2|\n",
      "|DLNINDV7266537|         3|                         3|\n",
      "|DLNINDV4508435|         5|                         3|\n",
      "|DLNINDV5379397|         5|                         0|\n",
      "|DLNINDV3553335|         4|                         1|\n",
      "|DLNINDV2190445|         0|                         5|\n",
      "|DLNINDV3338612|         5|                         3|\n",
      "|DLNINDV4703319|         1|                         0|\n",
      "|DLNINDV6059637|         4|                         2|\n",
      "|DLNINDV4372845|         0|                         1|\n",
      "|DLNINDV6901884|         5|                         0|\n",
      "|DLNINDV3597681|         5|                         4|\n",
      "|DLNINDV7825896|         2|                         3|\n",
      "|DLNINDV9541054|         5|                         3|\n",
      "+--------------+----------+--------------------------+\n",
      "only showing top 20 rows\n",
      "\n"
     ]
    }
   ],
   "source": [
    "from pyspark.sql.functions import monotonically_increasing_id\n",
    "import pandas as pd\n",
    "from kmodes.kmodes import KModes\n",
    "from sklearn.preprocessing import OneHotEncoder\n",
    "\n",
    "# Extract categorical features for KModes clustering\n",
    "categorical_df = df_clustered.select(categorical_cols).toPandas()\n",
    "\n",
    "# Encode categorical variables\n",
    "encoder = OneHotEncoder()\n",
    "categorical_encoded = encoder.fit_transform(categorical_df)\n",
    "\n",
    "# Run KModes Clustering\n",
    "km = KModes(n_clusters=6, init='Huang', n_init=10, verbose=1)\n",
    "categorical_clusters = km.fit_predict(categorical_encoded.toarray())\n",
    "\n",
    "# Convert KModes output to Pandas DataFrame\n",
    "categorical_clusters_df = pd.DataFrame(categorical_clusters, columns=[\"Categorical_Cluster\"])\n",
    "\n",
    "# Convert Pandas DataFrame to Spark DataFrame\n",
    "categorical_clusters_spark = spark.createDataFrame(categorical_clusters_df)\n",
    "\n",
    "# Rename column before joining to avoid ambiguity\n",
    "categorical_clusters_spark = categorical_clusters_spark.withColumnRenamed(\"Categorical_Cluster\", \"Categorical_Cluster_KModes\")\n",
    "\n",
    "# Add row index to both DataFrames for merging\n",
    "df_clustered = df_clustered.withColumn(\"row_id\", monotonically_increasing_id())\n",
    "categorical_clusters_spark = categorical_clusters_spark.withColumn(\"row_id\", monotonically_increasing_id())\n",
    "\n",
    "# Join categorical cluster assignments with the main clustered dataset\n",
    "df_clustered = df_clustered.join(categorical_clusters_spark, on=\"row_id\", how=\"inner\").drop(\"row_id\")\n",
    "\n",
    "# Show updated DataFrame with both numerical and categorical clusters\n",
    "df_clustered.select(\"cif_id\", \"prediction\", \"Categorical_Cluster_KModes\").show()\n"
   ]
  },
  {
   "cell_type": "code",
   "execution_count": 31,
   "id": "2f1b7026-adf1-4126-97ef-51980d32a332",
   "metadata": {},
   "outputs": [
    {
     "name": "stderr",
     "output_type": "stream",
     "text": [
      "[Stage 759:============================>                            (1 + 1) / 2]\r"
     ]
    },
    {
     "name": "stdout",
     "output_type": "stream",
     "text": [
      "+----------+--------------------------+-----+\n",
      "|prediction|Categorical_Cluster_KModes|count|\n",
      "+----------+--------------------------+-----+\n",
      "|         0|                         4|  485|\n",
      "|         3|                         3|  267|\n",
      "|         1|                         0| 4810|\n",
      "|         5|                         3| 6644|\n",
      "|         5|                         5| 1597|\n",
      "|         5|                         4| 2381|\n",
      "|         5|                         1| 4564|\n",
      "|         2|                         5|   49|\n",
      "|         0|                         2|  657|\n",
      "|         3|                         4|   96|\n",
      "|         4|                         2| 4619|\n",
      "|         0|                         3| 1318|\n",
      "|         1|                         3| 4827|\n",
      "|         3|                         1|  186|\n",
      "|         0|                         0| 1363|\n",
      "|         3|                         5|   69|\n",
      "|         1|                         5| 1281|\n",
      "|         0|                         1|  885|\n",
      "|         2|                         2|  132|\n",
      "|         4|                         0| 8904|\n",
      "+----------+--------------------------+-----+\n",
      "only showing top 20 rows\n",
      "\n"
     ]
    },
    {
     "name": "stderr",
     "output_type": "stream",
     "text": [
      "                                                                                \r"
     ]
    }
   ],
   "source": [
    "df_clustered.groupBy(\"prediction\", \"Categorical_Cluster_KModes\").count().show()\n"
   ]
  },
  {
   "cell_type": "code",
   "execution_count": 32,
   "id": "ceae0100-0e68-49d7-b011-5b1572123c4e",
   "metadata": {},
   "outputs": [
    {
     "name": "stderr",
     "output_type": "stream",
     "text": [
      "                                                                                \r"
     ]
    },
    {
     "name": "stdout",
     "output_type": "stream",
     "text": [
      "+----------+--------------------------+-----+\n",
      "|prediction|Categorical_Cluster_KModes|count|\n",
      "+----------+--------------------------+-----+\n",
      "|         0|                         4|  485|\n",
      "|         3|                         3|  267|\n",
      "|         1|                         0| 4810|\n",
      "|         5|                         3| 6644|\n",
      "|         5|                         5| 1597|\n",
      "|         5|                         4| 2381|\n",
      "|         5|                         1| 4564|\n",
      "|         2|                         5|   49|\n",
      "|         0|                         2|  657|\n",
      "|         3|                         4|   96|\n",
      "|         4|                         2| 4619|\n",
      "|         0|                         3| 1318|\n",
      "|         1|                         3| 4827|\n",
      "|         3|                         1|  186|\n",
      "|         0|                         0| 1363|\n",
      "|         3|                         5|   69|\n",
      "|         1|                         5| 1281|\n",
      "|         0|                         1|  885|\n",
      "|         2|                         2|  132|\n",
      "|         4|                         0| 8904|\n",
      "+----------+--------------------------+-----+\n",
      "only showing top 20 rows\n",
      "\n"
     ]
    }
   ],
   "source": [
    "df_clustered.groupBy(\"prediction\", \"Categorical_Cluster_KModes\").count().show()\n"
   ]
  },
  {
   "cell_type": "code",
   "execution_count": null,
   "id": "798827c8-93e8-4671-8436-a5c5b22576ed",
   "metadata": {},
   "outputs": [],
   "source": []
  },
  {
   "cell_type": "code",
   "execution_count": null,
   "id": "ab45e7da-8241-4054-9570-5385cb6d0a7c",
   "metadata": {},
   "outputs": [],
   "source": []
  },
  {
   "cell_type": "code",
   "execution_count": null,
   "id": "2266ff84-348f-4050-89f6-5fe0888821b5",
   "metadata": {},
   "outputs": [],
   "source": []
  }
 ],
 "metadata": {
  "kernelspec": {
   "display_name": "Python 3 (ipykernel)",
   "language": "python",
   "name": "python3"
  },
  "language_info": {
   "codemirror_mode": {
    "name": "ipython",
    "version": 3
   },
   "file_extension": ".py",
   "mimetype": "text/x-python",
   "name": "python",
   "nbconvert_exporter": "python",
   "pygments_lexer": "ipython3",
   "version": "3.11.9"
  }
 },
 "nbformat": 4,
 "nbformat_minor": 5
}
